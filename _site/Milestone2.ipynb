{
 "cells": [
  {
   "cell_type": "markdown",
   "metadata": {
    "colab_type": "text",
    "id": "xiBRLHdJnAkk"
   },
   "source": [
    "# Concept\n",
    "In the original conceptualization of the project we said that we wanted to find out the CO2 inpact of each recipe, its nutritional value and its cultural origin. To do so, the plan was to combine the data from three different datasets: Cooking recipes, Recipe 1M+ and Open Food Facts Database. After carefully observing the data, we found that Recipe 1M+ contains all the information we need to implement our plan. It contains several different datasets that combine recipe and ingredient information. Here we analyse two of them in order to see if any of this is feasible.\n"
   ]
  },
  {
   "cell_type": "markdown",
   "metadata": {
    "colab_type": "text",
    "id": "Eih6HWr90P8G"
   },
   "source": [
    "We load the data in the spark environment in case it is too big to be handled in pandas."
   ]
  },
  {
   "cell_type": "code",
   "execution_count": 1,
   "metadata": {
    "colab": {},
    "colab_type": "code",
    "id": "9c9FSR3fyMLC"
   },
   "outputs": [],
   "source": [
    "import pandas as pd\n",
    "import numpy as np\n",
    "import pyspark\n",
    "from pyspark.sql import Row\n",
    "from pyspark.sql.types import *\n",
    "from pyspark.sql import *\n",
    "from pyspark.sql.functions import *\n",
    "from pyspark import SparkContext, SparkConf\n",
    "import matplotlib.pyplot as plt\n",
    "from pyspark.sql import SparkSession"
   ]
  },
  {
   "cell_type": "code",
   "execution_count": 2,
   "metadata": {
    "colab": {},
    "colab_type": "code",
    "id": "alilLfQpEghM"
   },
   "outputs": [],
   "source": [
    "spark = SparkSession.builder.master(\"local[*]\").getOrCreate()"
   ]
  },
  {
   "cell_type": "markdown",
   "metadata": {
    "colab_type": "text",
    "id": "Vj5HPS3o0gyx"
   },
   "source": [
    "# Fisrt Glance at the data\n"
   ]
  },
  {
   "cell_type": "markdown",
   "metadata": {
    "colab_type": "text",
    "id": "k8ED9Nw8-qNv"
   },
   "source": [
    "We first explore a dataset containing nutritional information and organization of the quantities of all ingredients of each recipe. Although this data is much smaller than the full dataset, it is very clean and can give us an idea of what information we can retrieve."
   ]
  },
  {
   "cell_type": "code",
   "execution_count": 4,
   "metadata": {
    "colab": {
     "base_uri": "https://localhost:8080/",
     "height": 886
    },
    "colab_type": "code",
    "id": "Cy3bUtOP0gMg",
    "outputId": "46d7f4c7-c023-4e83-d1b4-68e5d910961d"
   },
   "outputs": [],
   "source": [
    "root_path = '../recipes_with_nutritional_info.json'\n",
    "recipes = spark.read.json(root_path,multiLine=True)"
   ]
  },
  {
   "cell_type": "code",
   "execution_count": 5,
   "metadata": {},
   "outputs": [
    {
     "name": "stdout",
     "output_type": "stream",
     "text": [
      "+--------------------+----------+--------------------+--------------------+--------------------+--------------------+---------+--------------------+--------------------+--------------------+--------------------+--------------------+\n",
      "|  fsa_lights_per100g|        id|         ingredients|        instructions| nutr_per_ingredient| nutr_values_per100g|partition|            quantity|               title|                unit|                 url|     weight_per_ingr|\n",
      "+--------------------+----------+--------------------+--------------------+--------------------+--------------------+---------+--------------------+--------------------+--------------------+--------------------+--------------------+\n",
      "|[green, green, gr...|000095fc1d|[[yogurt, greek, ...|[[Layer all ingre...|[[0.8845044000000...|[81.1294613189476...|    train|   [[8], [1], [1/4]]|     Yogurt Parfaits|[[ounce], [cup], ...|http://tastykitch...|[226.796, 152.0, ...|\n",
      "|[red, orange, ora...|00051d5b9d|[[sugars, granula...|[[Cream sugar and...|[[0.0, 384.0, 0.0...|[477.096403935946...|      val|[[1/2], [3/4], [1...|Salt Free, Low Ch...|[[cup], [cup], [c...|http://cookeatsha...|[100.800000000000...|\n",
      "|[orange, orange, ...|00059b093b|[[chicken, broile...|[[Preheat oven to...|[[174.859716, 259...|[208.058982809607...|    train|[[3], [1], [1/2],...|Honey Sriracha Ch...|[[pound], [teaspo...|http://tastykitch...|[1360.77599999999...|\n",
      "|[orange, orange, ...|0005fc89f7|[[crustaceans, sh...|[[In a large bowl...|[[4.6266384, 771....|[194.752595684909...|    train|[[2], [3/4], [1 1...|Shrimp and Caper ...|[[pound], [cup], ...|http://allrecipes...|[907.184, 75.0, 1...|\n",
      "|[orange, green, o...|0006ca31f4|[[cocoa, dry powd...|[[Measure out the...|[[141.35999999999...|[303.435399551904...|    train|   [[12], [12], [1]]|Natural Peanut Bu...|[[cup], [cup], [c...|http://www.food.c...|[1032.0, 4068.0, ...|\n",
      "|[green, red, gree...|00073a6b36|[[cheese, pasteur...|[[Put milk, onion...|[[54.073836299999...|[57.1235315011150...|    train|[[6], [13], [14],...|   Easy Cheese Sauce|[[ounce], [cup], ...|http://www.food.c...|[170.096999999999...|\n",
      "|[orange, orange, ...|0007c8edef|[[spartan, real s...|[[Heat chocolate ...|[[22.682434949999...|[367.723050366707...|    train|[[3], [3], [1/4],...|Easy Chocolate Fr...|[[ounce], [ounce]...|http://cookeatsha...|[85.0484999999999...|\n",
      "|[orange, red, red...|0007f5f800|[[cornmeal, deger...|[[In a large skil...|[[2.75, 581.0, 11...|[399.518219071879...|    train|[[1], [3/4], [3/4...|Cornmeal Crackers...|[[cup], [cup], [c...|http://www.foodan...|[157.0, 93.75, 48...|\n",
      "|[green, green, gr...|0008c6e39a|[[sugars, powdere...|[[Move oven rack ...|[[0.0, 700.5, 0.0...|[149.425998700374...|    train|[[1 1/2], [3/4], ...|Chocolate-Orange ...|[[cup], [cup], [c...|https://recipelan...|[180.0, 102.75, 2...|\n",
      "|[orange, red, ora...|0009785a2e|[[rice, white, lo...|[[Add rice to a l...|[[0.44, 205.0, 4....|[57.3496659242761...|     test|[[1], [3], [3], [...|Rice With Lemon, ...|[[cup], [cup], [t...|http://www.food.c...|[158.0, 710.40000...|\n",
      "+--------------------+----------+--------------------+--------------------+--------------------+--------------------+---------+--------------------+--------------------+--------------------+--------------------+--------------------+\n",
      "only showing top 10 rows\n",
      "\n"
     ]
    }
   ],
   "source": [
    "recipes.show(10)"
   ]
  },
  {
   "cell_type": "code",
   "execution_count": 7,
   "metadata": {},
   "outputs": [
    {
     "name": "stdout",
     "output_type": "stream",
     "text": [
      "root\n",
      " |-- fsa_lights_per100g: struct (nullable = true)\n",
      " |    |-- fat: string (nullable = true)\n",
      " |    |-- salt: string (nullable = true)\n",
      " |    |-- saturates: string (nullable = true)\n",
      " |    |-- sugars: string (nullable = true)\n",
      " |-- id: string (nullable = true)\n",
      " |-- ingredients: array (nullable = true)\n",
      " |    |-- element: struct (containsNull = true)\n",
      " |    |    |-- text: string (nullable = true)\n",
      " |-- instructions: array (nullable = true)\n",
      " |    |-- element: struct (containsNull = true)\n",
      " |    |    |-- text: string (nullable = true)\n",
      " |-- nutr_per_ingredient: array (nullable = true)\n",
      " |    |-- element: struct (containsNull = true)\n",
      " |    |    |-- fat: double (nullable = true)\n",
      " |    |    |-- nrg: double (nullable = true)\n",
      " |    |    |-- pro: double (nullable = true)\n",
      " |    |    |-- sat: double (nullable = true)\n",
      " |    |    |-- sod: double (nullable = true)\n",
      " |    |    |-- sug: double (nullable = true)\n",
      " |-- nutr_values_per100g: struct (nullable = true)\n",
      " |    |-- energy: double (nullable = true)\n",
      " |    |-- fat: double (nullable = true)\n",
      " |    |-- protein: double (nullable = true)\n",
      " |    |-- salt: double (nullable = true)\n",
      " |    |-- saturates: double (nullable = true)\n",
      " |    |-- sugars: double (nullable = true)\n",
      " |-- partition: string (nullable = true)\n",
      " |-- quantity: array (nullable = true)\n",
      " |    |-- element: struct (containsNull = true)\n",
      " |    |    |-- text: string (nullable = true)\n",
      " |-- title: string (nullable = true)\n",
      " |-- unit: array (nullable = true)\n",
      " |    |-- element: struct (containsNull = true)\n",
      " |    |    |-- text: string (nullable = true)\n",
      " |-- url: string (nullable = true)\n",
      " |-- weight_per_ingr: array (nullable = true)\n",
      " |    |-- element: double (containsNull = true)\n",
      "\n"
     ]
    }
   ],
   "source": [
    "recipes.printSchema()"
   ]
  },
  {
   "cell_type": "markdown",
   "metadata": {
    "colab_type": "text",
    "id": "AE6OPsTzrFUP"
   },
   "source": [
    "Reflecting on the dataset and the feasibility of our objectives we can say that evaluating the CO2 impact of each recipe would require the use of an aditional dataset giving the emissions per ingredient. Even then, a calculation of the total impact would not be accurate since high variations of CO2 emissions of a given ingredient are expected depending on its origin and its use.\n",
    "The nutritional value aspect of the analysis has already been done by the team of scientists who created the data. This information is however not available for the full dataset of recipes. We could try to expand it by matching repeating ingredients. This might be difficult given that ingredients are often quite specific(there are many different types for many of them). However, we consider that if we combine these types and take a single value for their nutritional attributes, the inaccuracy would not influence global tendencies."
   ]
  },
  {
   "cell_type": "markdown",
   "metadata": {
    "colab_type": "text",
    "id": "HAwPaP3fjARo"
   },
   "source": [
    "Reflecting on the dataset, it seems to be very rich. As we know, it has been preprocessed to be fed to a machine learning algorithm. Because of that, we expect it to be very clean, with no NAN or duplicates. We will still test it just in case. For the moment, we focus mainly on the recipes and the way they can be clustered, leaving their nutritional values for a later stage of the analysis. Thus we will work on a dataframe that ignores the corresponding columns.\n"
   ]
  },
  {
   "cell_type": "code",
   "execution_count": 8,
   "metadata": {
    "colab": {},
    "colab_type": "code",
    "id": "NIMHXRIJjgdl"
   },
   "outputs": [],
   "source": [
    "recipes=recipes.select([\"id\",\"title\",\"ingredients\",\"instructions\"])"
   ]
  },
  {
   "cell_type": "code",
   "execution_count": 10,
   "metadata": {
    "colab": {
     "base_uri": "https://localhost:8080/",
     "height": 199
    },
    "colab_type": "code",
    "id": "ReG15gOUlyCx",
    "outputId": "d93521a7-40dd-4643-cf2f-351b6724ecda"
   },
   "outputs": [
    {
     "name": "stdout",
     "output_type": "stream",
     "text": [
      "Size before removing NaN and duplicates: 51235\n",
      "Size after removing NaN and duplicates: 51235\n"
     ]
    }
   ],
   "source": [
    "print('Size before removing NaN and duplicates:', recipes.count())\n",
    "recipes=recipes.dropna()\n",
    "recipes=recipes.drop_duplicates()\n",
    "print('Size after removing NaN and duplicates:', recipes.count())"
   ]
  },
  {
   "cell_type": "markdown",
   "metadata": {
    "colab_type": "text",
    "id": "9Eob-zhsl4Sn"
   },
   "source": [
    "We have 50 thousand recipes as a subset of the 800 available. It is perfect for understanding how the data can be structured and what could be done with it.\n",
    "Let's see what the inner structure is.\n"
   ]
  },
  {
   "cell_type": "code",
   "execution_count": 12,
   "metadata": {
    "colab": {
     "base_uri": "https://localhost:8080/",
     "height": 68
    },
    "colab_type": "code",
    "id": "rxKbVNHmnIc0",
    "outputId": "e806ef39-4834-4ebb-9c50-7e8fbcbc7cd8"
   },
   "outputs": [
    {
     "name": "stdout",
     "output_type": "stream",
     "text": [
      "<class 'list'>\n"
     ]
    },
    {
     "data": {
      "text/plain": [
       "[Row(text='sugars, granulated'),\n",
       " Row(text='cocoa, dry powder, unsweetened'),\n",
       " Row(text='wheat flour, white, all-purpose, unenriched'),\n",
       " Row(text='salt, table'),\n",
       " Row(text='butter, without salt'),\n",
       " Row(text='vanilla extract')]"
      ]
     },
     "execution_count": 12,
     "metadata": {},
     "output_type": "execute_result"
    }
   ],
   "source": [
    "one_line = recipes.take(1)\n",
    "print(type(one_line[0][2]))\n",
    "one_line[0][2]"
   ]
  },
  {
   "cell_type": "markdown",
   "metadata": {
    "colab_type": "text",
    "id": "Issyh5rOo6Sw"
   },
   "source": [
    "We see that in the ingredients column we have for each row a list of ingredients, where each line corresponds to an ingredient followed by words describing it. We would like to get a feeling of the order of magnitude of the list of ingredients.\n",
    "To do so we will export the data to a pandas dataframe as this makes it easier to explode it by ingredient. \n"
   ]
  },
  {
   "cell_type": "code",
   "execution_count": 31,
   "metadata": {
    "colab": {},
    "colab_type": "code",
    "id": "Ov0GOQyrpydt"
   },
   "outputs": [],
   "source": [
    "recipes_pd = recipes.toPandas()"
   ]
  },
  {
   "cell_type": "code",
   "execution_count": 32,
   "metadata": {
    "colab": {
     "base_uri": "https://localhost:8080/",
     "height": 529
    },
    "colab_type": "code",
    "id": "yfLM4-GlqmLQ",
    "outputId": "98604d84-a016-49bb-814a-751c0d91d328"
   },
   "outputs": [
    {
     "data": {
      "text/html": [
       "<div>\n",
       "<style scoped>\n",
       "    .dataframe tbody tr th:only-of-type {\n",
       "        vertical-align: middle;\n",
       "    }\n",
       "\n",
       "    .dataframe tbody tr th {\n",
       "        vertical-align: top;\n",
       "    }\n",
       "\n",
       "    .dataframe thead th {\n",
       "        text-align: right;\n",
       "    }\n",
       "</style>\n",
       "<table border=\"1\" class=\"dataframe\">\n",
       "  <thead>\n",
       "    <tr style=\"text-align: right;\">\n",
       "      <th></th>\n",
       "      <th>id</th>\n",
       "      <th>title</th>\n",
       "      <th>ingredients</th>\n",
       "      <th>instructions</th>\n",
       "    </tr>\n",
       "  </thead>\n",
       "  <tbody>\n",
       "    <tr>\n",
       "      <th>0</th>\n",
       "      <td>02968fae50</td>\n",
       "      <td>Hot Chocolate Sauce over Pound Cake</td>\n",
       "      <td>[(sugars, granulated,), (cocoa, dry powder, un...</td>\n",
       "      <td>[(Fill bottom of double boiler with enough wat...</td>\n",
       "    </tr>\n",
       "    <tr>\n",
       "      <th>1</th>\n",
       "      <td>030ae71300</td>\n",
       "      <td>Italian Wheat Bread With Pesto</td>\n",
       "      <td>[(water, bottled, generic,), (honey,), (salt, ...</td>\n",
       "      <td>[(Put ingredients in machine in the order reco...</td>\n",
       "    </tr>\n",
       "    <tr>\n",
       "      <th>2</th>\n",
       "      <td>03a63c5699</td>\n",
       "      <td>Pie Crust</td>\n",
       "      <td>[(butter, without salt,), (shortening, vegetab...</td>\n",
       "      <td>[(Combine the butter, shortening, 2 cups of th...</td>\n",
       "    </tr>\n",
       "    <tr>\n",
       "      <th>3</th>\n",
       "      <td>05aaa57168</td>\n",
       "      <td>Easy Roast Beef</td>\n",
       "      <td>[(beef, grass-fed, ground, raw,), (soup, cream...</td>\n",
       "      <td>[(Rinse beef, pat dry, and place in slow cooke...</td>\n",
       "    </tr>\n",
       "    <tr>\n",
       "      <th>4</th>\n",
       "      <td>06916e9d4c</td>\n",
       "      <td>Homemade Ginger Beer</td>\n",
       "      <td>[(spices, ginger, ground,), (water, bottled, g...</td>\n",
       "      <td>[(Place ginger in a food processor, and proces...</td>\n",
       "    </tr>\n",
       "    <tr>\n",
       "      <th>5</th>\n",
       "      <td>06a4bf1502</td>\n",
       "      <td>Easy Braunschweiger Ball</td>\n",
       "      <td>[(pork sausage, link/patty, unprepared,), (che...</td>\n",
       "      <td>[(Use Braunschweiger and cream cheese at room ...</td>\n",
       "    </tr>\n",
       "    <tr>\n",
       "      <th>6</th>\n",
       "      <td>0a3d094811</td>\n",
       "      <td>Three Step Taco Salad</td>\n",
       "      <td>[(beef, grass-fed, ground, raw,), (seasoning m...</td>\n",
       "      <td>[(Cook the beef in large skillet over medium-h...</td>\n",
       "    </tr>\n",
       "    <tr>\n",
       "      <th>7</th>\n",
       "      <td>0bb944d2e1</td>\n",
       "      <td>Bittersweet Chocolate Sauce</td>\n",
       "      <td>[(sugars, granulated,), (cocoa, dry powder, un...</td>\n",
       "      <td>[(Combine the sugar and cocoa in a heavy botto...</td>\n",
       "    </tr>\n",
       "    <tr>\n",
       "      <th>8</th>\n",
       "      <td>0f2df80545</td>\n",
       "      <td>Santa Fe Cured Pork Loin</td>\n",
       "      <td>[(pork, fresh, loin, tenderloin, separable lea...</td>\n",
       "      <td>[(In large saucepan, heat all ingredients EXCE...</td>\n",
       "    </tr>\n",
       "    <tr>\n",
       "      <th>9</th>\n",
       "      <td>0f628acbbd</td>\n",
       "      <td>Creamy Chicken Alfredo</td>\n",
       "      <td>[(cream, fluid, heavy whipping,), (butter, wit...</td>\n",
       "      <td>[(Directions:,), (Place the cream, butter and ...</td>\n",
       "    </tr>\n",
       "  </tbody>\n",
       "</table>\n",
       "</div>"
      ],
      "text/plain": [
       "           id                                title  \\\n",
       "0  02968fae50  Hot Chocolate Sauce over Pound Cake   \n",
       "1  030ae71300       Italian Wheat Bread With Pesto   \n",
       "2  03a63c5699                            Pie Crust   \n",
       "3  05aaa57168                      Easy Roast Beef   \n",
       "4  06916e9d4c                 Homemade Ginger Beer   \n",
       "5  06a4bf1502             Easy Braunschweiger Ball   \n",
       "6  0a3d094811                Three Step Taco Salad   \n",
       "7  0bb944d2e1          Bittersweet Chocolate Sauce   \n",
       "8  0f2df80545             Santa Fe Cured Pork Loin   \n",
       "9  0f628acbbd               Creamy Chicken Alfredo   \n",
       "\n",
       "                                         ingredients  \\\n",
       "0  [(sugars, granulated,), (cocoa, dry powder, un...   \n",
       "1  [(water, bottled, generic,), (honey,), (salt, ...   \n",
       "2  [(butter, without salt,), (shortening, vegetab...   \n",
       "3  [(beef, grass-fed, ground, raw,), (soup, cream...   \n",
       "4  [(spices, ginger, ground,), (water, bottled, g...   \n",
       "5  [(pork sausage, link/patty, unprepared,), (che...   \n",
       "6  [(beef, grass-fed, ground, raw,), (seasoning m...   \n",
       "7  [(sugars, granulated,), (cocoa, dry powder, un...   \n",
       "8  [(pork, fresh, loin, tenderloin, separable lea...   \n",
       "9  [(cream, fluid, heavy whipping,), (butter, wit...   \n",
       "\n",
       "                                        instructions  \n",
       "0  [(Fill bottom of double boiler with enough wat...  \n",
       "1  [(Put ingredients in machine in the order reco...  \n",
       "2  [(Combine the butter, shortening, 2 cups of th...  \n",
       "3  [(Rinse beef, pat dry, and place in slow cooke...  \n",
       "4  [(Place ginger in a food processor, and proces...  \n",
       "5  [(Use Braunschweiger and cream cheese at room ...  \n",
       "6  [(Cook the beef in large skillet over medium-h...  \n",
       "7  [(Combine the sugar and cocoa in a heavy botto...  \n",
       "8  [(In large saucepan, heat all ingredients EXCE...  \n",
       "9  [(Directions:,), (Place the cream, butter and ...  "
      ]
     },
     "execution_count": 32,
     "metadata": {},
     "output_type": "execute_result"
    }
   ],
   "source": [
    "recipes_pd.head(10)"
   ]
  },
  {
   "cell_type": "code",
   "execution_count": 33,
   "metadata": {
    "colab": {},
    "colab_type": "code",
    "id": "3FSeq3Sqq8fN"
   },
   "outputs": [],
   "source": [
    "recipes_pd = recipes_pd.explode(\"ingredients\")"
   ]
  },
  {
   "cell_type": "code",
   "execution_count": 35,
   "metadata": {
    "colab": {
     "base_uri": "https://localhost:8080/",
     "height": 589
    },
    "colab_type": "code",
    "id": "NTEwEbCuETFQ",
    "outputId": "32fdddde-6e35-4a84-88e9-a9b93ca246fc"
   },
   "outputs": [
    {
     "data": {
      "text/html": [
       "<div>\n",
       "<style scoped>\n",
       "    .dataframe tbody tr th:only-of-type {\n",
       "        vertical-align: middle;\n",
       "    }\n",
       "\n",
       "    .dataframe tbody tr th {\n",
       "        vertical-align: top;\n",
       "    }\n",
       "\n",
       "    .dataframe thead th {\n",
       "        text-align: right;\n",
       "    }\n",
       "</style>\n",
       "<table border=\"1\" class=\"dataframe\">\n",
       "  <thead>\n",
       "    <tr style=\"text-align: right;\">\n",
       "      <th></th>\n",
       "      <th>id</th>\n",
       "      <th>title</th>\n",
       "      <th>ingredients</th>\n",
       "      <th>instructions</th>\n",
       "    </tr>\n",
       "  </thead>\n",
       "  <tbody>\n",
       "    <tr>\n",
       "      <th>0</th>\n",
       "      <td>02968fae50</td>\n",
       "      <td>Hot Chocolate Sauce over Pound Cake</td>\n",
       "      <td>(sugars, granulated,)</td>\n",
       "      <td>[(Fill bottom of double boiler with enough wat...</td>\n",
       "    </tr>\n",
       "    <tr>\n",
       "      <th>0</th>\n",
       "      <td>02968fae50</td>\n",
       "      <td>Hot Chocolate Sauce over Pound Cake</td>\n",
       "      <td>(cocoa, dry powder, unsweetened,)</td>\n",
       "      <td>[(Fill bottom of double boiler with enough wat...</td>\n",
       "    </tr>\n",
       "    <tr>\n",
       "      <th>0</th>\n",
       "      <td>02968fae50</td>\n",
       "      <td>Hot Chocolate Sauce over Pound Cake</td>\n",
       "      <td>(wheat flour, white, all-purpose, unenriched,)</td>\n",
       "      <td>[(Fill bottom of double boiler with enough wat...</td>\n",
       "    </tr>\n",
       "    <tr>\n",
       "      <th>0</th>\n",
       "      <td>02968fae50</td>\n",
       "      <td>Hot Chocolate Sauce over Pound Cake</td>\n",
       "      <td>(salt, table,)</td>\n",
       "      <td>[(Fill bottom of double boiler with enough wat...</td>\n",
       "    </tr>\n",
       "    <tr>\n",
       "      <th>0</th>\n",
       "      <td>02968fae50</td>\n",
       "      <td>Hot Chocolate Sauce over Pound Cake</td>\n",
       "      <td>(butter, without salt,)</td>\n",
       "      <td>[(Fill bottom of double boiler with enough wat...</td>\n",
       "    </tr>\n",
       "    <tr>\n",
       "      <th>...</th>\n",
       "      <td>...</td>\n",
       "      <td>...</td>\n",
       "      <td>...</td>\n",
       "      <td>...</td>\n",
       "    </tr>\n",
       "    <tr>\n",
       "      <th>51234</th>\n",
       "      <td>ffaaf44bde</td>\n",
       "      <td>Cream Fresh Cauliflower Soup</td>\n",
       "      <td>(milk, fluid, 1% fat, without added vitamin a ...</td>\n",
       "      <td>[(Saute onion in butter until tender.,), (Brea...</td>\n",
       "    </tr>\n",
       "    <tr>\n",
       "      <th>51234</th>\n",
       "      <td>ffaaf44bde</td>\n",
       "      <td>Cream Fresh Cauliflower Soup</td>\n",
       "      <td>(cheese, parmesan, hard,)</td>\n",
       "      <td>[(Saute onion in butter until tender.,), (Brea...</td>\n",
       "    </tr>\n",
       "    <tr>\n",
       "      <th>51234</th>\n",
       "      <td>ffaaf44bde</td>\n",
       "      <td>Cream Fresh Cauliflower Soup</td>\n",
       "      <td>(spices, curry powder,)</td>\n",
       "      <td>[(Saute onion in butter until tender.,), (Brea...</td>\n",
       "    </tr>\n",
       "    <tr>\n",
       "      <th>51234</th>\n",
       "      <td>ffaaf44bde</td>\n",
       "      <td>Cream Fresh Cauliflower Soup</td>\n",
       "      <td>(cornstarch,)</td>\n",
       "      <td>[(Saute onion in butter until tender.,), (Brea...</td>\n",
       "    </tr>\n",
       "    <tr>\n",
       "      <th>51234</th>\n",
       "      <td>ffaaf44bde</td>\n",
       "      <td>Cream Fresh Cauliflower Soup</td>\n",
       "      <td>(water, bottled, generic,)</td>\n",
       "      <td>[(Saute onion in butter until tender.,), (Brea...</td>\n",
       "    </tr>\n",
       "  </tbody>\n",
       "</table>\n",
       "<p>311435 rows × 4 columns</p>\n",
       "</div>"
      ],
      "text/plain": [
       "               id                                title  \\\n",
       "0      02968fae50  Hot Chocolate Sauce over Pound Cake   \n",
       "0      02968fae50  Hot Chocolate Sauce over Pound Cake   \n",
       "0      02968fae50  Hot Chocolate Sauce over Pound Cake   \n",
       "0      02968fae50  Hot Chocolate Sauce over Pound Cake   \n",
       "0      02968fae50  Hot Chocolate Sauce over Pound Cake   \n",
       "...           ...                                  ...   \n",
       "51234  ffaaf44bde         Cream Fresh Cauliflower Soup   \n",
       "51234  ffaaf44bde         Cream Fresh Cauliflower Soup   \n",
       "51234  ffaaf44bde         Cream Fresh Cauliflower Soup   \n",
       "51234  ffaaf44bde         Cream Fresh Cauliflower Soup   \n",
       "51234  ffaaf44bde         Cream Fresh Cauliflower Soup   \n",
       "\n",
       "                                             ingredients  \\\n",
       "0                                  (sugars, granulated,)   \n",
       "0                      (cocoa, dry powder, unsweetened,)   \n",
       "0         (wheat flour, white, all-purpose, unenriched,)   \n",
       "0                                         (salt, table,)   \n",
       "0                                (butter, without salt,)   \n",
       "...                                                  ...   \n",
       "51234  (milk, fluid, 1% fat, without added vitamin a ...   \n",
       "51234                          (cheese, parmesan, hard,)   \n",
       "51234                            (spices, curry powder,)   \n",
       "51234                                      (cornstarch,)   \n",
       "51234                         (water, bottled, generic,)   \n",
       "\n",
       "                                            instructions  \n",
       "0      [(Fill bottom of double boiler with enough wat...  \n",
       "0      [(Fill bottom of double boiler with enough wat...  \n",
       "0      [(Fill bottom of double boiler with enough wat...  \n",
       "0      [(Fill bottom of double boiler with enough wat...  \n",
       "0      [(Fill bottom of double boiler with enough wat...  \n",
       "...                                                  ...  \n",
       "51234  [(Saute onion in butter until tender.,), (Brea...  \n",
       "51234  [(Saute onion in butter until tender.,), (Brea...  \n",
       "51234  [(Saute onion in butter until tender.,), (Brea...  \n",
       "51234  [(Saute onion in butter until tender.,), (Brea...  \n",
       "51234  [(Saute onion in butter until tender.,), (Brea...  \n",
       "\n",
       "[311435 rows x 4 columns]"
      ]
     },
     "execution_count": 35,
     "metadata": {},
     "output_type": "execute_result"
    }
   ],
   "source": [
    "recipes_pd"
   ]
  },
  {
   "cell_type": "markdown",
   "metadata": {
    "colab_type": "text",
    "id": "U9OnHjZqPJ32"
   },
   "source": [
    "We see that there are more than 300 thousand entries in the dataframe. We expect some of them to repeat and most of them to repeat if we combine similar ingredients together."
   ]
  },
  {
   "cell_type": "markdown",
   "metadata": {
    "colab_type": "text",
    "id": "f_vUlFeOax2M"
   },
   "source": [
    "# Scaling up\n",
    "We would now like to scale up and use the full database of recipes. We are going to import a subset of them. We select the first 50 thousand in order to get a sense of the data while still being able to use spark locally.\n"
   ]
  },
  {
   "cell_type": "code",
   "execution_count": 37,
   "metadata": {
    "colab": {
     "base_uri": "https://localhost:8080/",
     "height": 309
    },
    "colab_type": "code",
    "id": "pYrWmgT_bYWD",
    "outputId": "9bb7a529-d6cd-4bd1-81b0-49a5df365c50"
   },
   "outputs": [
    {
     "name": "stdout",
     "output_type": "stream",
     "text": [
      "+----------+--------------------+--------------------+---------+--------------------+--------------------+\n",
      "|        id|         ingredients|        instructions|partition|               title|                 url|\n",
      "+----------+--------------------+--------------------+---------+--------------------+--------------------+\n",
      "|000018c8a5|[[6 ounces penne]...|[[Preheat the ove...|    train|Worlds Best Mac a...|http://www.epicur...|\n",
      "|000033e39b|[[1 c. elbow maca...|[[Cook macaroni a...|    train|Dilly Macaroni Sa...|http://cookeatsha...|\n",
      "|000035f7ed|[[8 tomatoes, qua...|[[Add the tomatoe...|    train|            Gazpacho|http://www.foodne...|\n",
      "|00003a70b1|[[2 12 cups milk]...|[[Preheat oven to...|     test|Crunchy Onion Pot...|http://www.food.c...|\n",
      "|00004320bb|[[1 (3 ounce) pac...|[[Dissolve Jello ...|    train|Cool 'n Easy Crea...|http://www.food.c...|\n",
      "|0000631d90|[[12 cup shredded...|[[In a large skil...|    train|Easy Tropical Bee...|http://www.food.c...|\n",
      "|000075604a|[[2 Chicken thigh...|[[Pierce the skin...|    train|Kombu Tea Grilled...|https://cookpad.c...|\n",
      "|00007bfd16|[[6 -8 cups fresh...|[[Put ingredients...|    train|Strawberry Rhubar...|http://www.food.c...|\n",
      "|000095fc1d|[[8 ounces, weigh...|[[Layer all ingre...|    train|     Yogurt Parfaits|http://tastykitch...|\n",
      "|0000973574|[[2 cups flour], ...|[[Sift dry ingred...|    train|  Zucchini Nut Bread|http://www.food.c...|\n",
      "+----------+--------------------+--------------------+---------+--------------------+--------------------+\n",
      "only showing top 10 rows\n",
      "\n"
     ]
    }
   ],
   "source": [
    "root_path = '../first_50k.json'\n",
    "recipes_50k = spark.read.json(root_path,multiLine=True)\n",
    "recipes_50k.show(10)"
   ]
  },
  {
   "cell_type": "markdown",
   "metadata": {
    "colab_type": "text",
    "id": "bdfIa-gDcCCR"
   },
   "source": [
    "Looking at the data, apart from the missing nutritional values, we see that it is similar to the previous one. One aspect that could be problematic is that the ingredients are less clean as this is exactly what we are interested in.\n",
    "Hence we will need to reorganize the data. To do so we will have to isolate the measures and the descriptions of the ingredients. Although this is not an obvious task, we can observe that there is a very limited number of words describing the quantity(e.g. cups, c., ounce, tbsp) which can be separated along with the numberical value.\n",
    "As for separating the actual ingredient from its specifications, we will need to perform a deeper analysis."
   ]
  },
  {
   "cell_type": "code",
   "execution_count": 38,
   "metadata": {
    "colab": {},
    "colab_type": "code",
    "id": "f-5LMhXFO6zk"
   },
   "outputs": [],
   "source": [
    "###"
   ]
  },
  {
   "cell_type": "markdown",
   "metadata": {
    "colab_type": "text",
    "id": "xr9MKmlTOr9f"
   },
   "source": [
    "A first idea would be to check which words already appear in the clean ingredients list and which words appear the most often."
   ]
  },
  {
   "cell_type": "code",
   "execution_count": 39,
   "metadata": {
    "colab": {},
    "colab_type": "code",
    "id": "CnLdlrKFO7zY"
   },
   "outputs": [],
   "source": [
    "###"
   ]
  },
  {
   "cell_type": "markdown",
   "metadata": {
    "colab_type": "text",
    "id": "SpZ6Jtv7O-im"
   },
   "source": [
    "Once we have a clean ingredients list for all the recipes, we will proceed with the analysis of the data.\n",
    "The first step would be to find for which ones of the newly found there is availible nutritional information from the first dataset. We will consider removing the specifications of the ingredients in order to simplify the task and have our set of usable recipes as large as possible. We assume for the time being that not differentiating between regular and Kosher salt for example wouldn't be a huge loss."
   ]
  },
  {
   "cell_type": "code",
   "execution_count": 40,
   "metadata": {
    "colab": {},
    "colab_type": "code",
    "id": "Z7Zg2a8GQ9WU"
   },
   "outputs": [],
   "source": [
    "###"
   ]
  },
  {
   "cell_type": "markdown",
   "metadata": {
    "colab_type": "text",
    "id": "gwKUuykzQ-sE"
   },
   "source": [
    "The next step of the project will consist in clustering the recipes based on the similarity of their ingredients. We will consider doing so in different ways.\n",
    "One possibility is to come up with a score system based on a metric value associated with the ingredients. Another would be to train an algorithm with a subset of recipes for which their type and origin are easily extractable.(E.g. 'pasta' is Italian, 'cake' is pastry)\n"
   ]
  },
  {
   "cell_type": "code",
   "execution_count": 41,
   "metadata": {
    "colab": {},
    "colab_type": "code",
    "id": "RI6DloY_TLM_"
   },
   "outputs": [],
   "source": [
    "###"
   ]
  },
  {
   "cell_type": "markdown",
   "metadata": {
    "colab_type": "text",
    "id": "R-pwU5mBTMxK"
   },
   "source": [
    "At this stage we should be able to compare our different clustering methods and select a final classification.\n",
    "Once this is done, we can ask numerous questions about the differences between different cuisines. Which one is the healthiest? Which one uses the most of a specific ingredient? Which types of recipes are simpler to execute? ..."
   ]
  },
  {
   "cell_type": "code",
   "execution_count": null,
   "metadata": {},
   "outputs": [],
   "source": [
    "###"
   ]
  }
 ],
 "metadata": {
  "colab": {
   "collapsed_sections": [],
   "name": "Milestone2",
   "provenance": []
  },
  "kernelspec": {
   "display_name": "Python 3",
   "language": "python",
   "name": "python3"
  },
  "language_info": {
   "codemirror_mode": {
    "name": "ipython",
    "version": 3
   },
   "file_extension": ".py",
   "mimetype": "text/x-python",
   "name": "python",
   "nbconvert_exporter": "python",
   "pygments_lexer": "ipython3",
   "version": "3.7.5"
  }
 },
 "nbformat": 4,
 "nbformat_minor": 1
}
