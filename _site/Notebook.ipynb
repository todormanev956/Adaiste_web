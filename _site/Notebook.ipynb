{
  "nbformat": 4,
  "nbformat_minor": 0,
  "metadata": {
    "colab": {
      "name": "central.ipynb",
      "provenance": [],
      "collapsed_sections": [],
      "toc_visible": true,
      "machine_shape": "hm"
    },
    "kernelspec": {
      "name": "python3",
      "display_name": "Python 3"
    }
  },
  "cells": [
    {
      "cell_type": "markdown",
      "metadata": {
        "id": "ffnetGrtn7UD",
        "colab_type": "text"
      },
      "source": [
        "#Colab principal\n",
        "Rajoutez uniqument le code propre et commenté dans la partie code.  "
      ]
    },
    {
      "cell_type": "markdown",
      "metadata": {
        "id": "dsRHTkT8nrG5",
        "colab_type": "text"
      },
      "source": [
        "# Environment settings"
      ]
    },
    {
      "cell_type": "markdown",
      "metadata": {
        "id": "y_xTFEdRnKIC",
        "colab_type": "text"
      },
      "source": [
        "## Drive mounting"
      ]
    },
    {
      "cell_type": "markdown",
      "metadata": {
        "id": "0I99cEC0PtjV",
        "colab_type": "text"
      },
      "source": [
        "Il faut mount le drive en executant le code ci dessous. Rajoutez uniquement votre code propre et qui marche. Travaillez sur votre brouillon autrement."
      ]
    },
    {
      "cell_type": "code",
      "metadata": {
        "id": "kZheyahCQAm9",
        "colab_type": "code",
        "outputId": "b3de80b6-6a8e-4a7d-db1d-23123d8dee7a",
        "colab": {
          "base_uri": "https://localhost:8080/",
          "height": 122
        }
      },
      "source": [
        "from google.colab import drive\n",
        "drive.mount('/content/drive')"
      ],
      "execution_count": 0,
      "outputs": [
        {
          "output_type": "stream",
          "text": [
            "Go to this URL in a browser: https://accounts.google.com/o/oauth2/auth?client_id=947318989803-6bn6qk8qdgf4n4g3pfee6491hc0brc4i.apps.googleusercontent.com&redirect_uri=urn%3aietf%3awg%3aoauth%3a2.0%3aoob&response_type=code&scope=email%20https%3a%2f%2fwww.googleapis.com%2fauth%2fdocs.test%20https%3a%2f%2fwww.googleapis.com%2fauth%2fdrive%20https%3a%2f%2fwww.googleapis.com%2fauth%2fdrive.photos.readonly%20https%3a%2f%2fwww.googleapis.com%2fauth%2fpeopleapi.readonly\n",
            "\n",
            "Enter your authorization code:\n",
            "··········\n",
            "Mounted at /content/drive\n"
          ],
          "name": "stdout"
        }
      ]
    },
    {
      "cell_type": "markdown",
      "metadata": {
        "id": "eQ0cZunYolSH",
        "colab_type": "text"
      },
      "source": [
        "## Import self made libraries\n"
      ]
    },
    {
      "cell_type": "markdown",
      "metadata": {
        "id": "ItY71XOonSqD",
        "colab_type": "text"
      },
      "source": [
        "Pour importer des fichier externes en python vous pouvez utiliser ça:"
      ]
    },
    {
      "cell_type": "code",
      "metadata": {
        "id": "H3vGh8IEncRv",
        "colab_type": "code",
        "colab": {}
      },
      "source": [
        "import sys\n",
        "sys.path.insert(0, '/content/gdrive/My Drive/Colab Notebooks/my_modules')\n",
        "\n",
        "import naive_sharding"
      ],
      "execution_count": 0,
      "outputs": []
    },
    {
      "cell_type": "markdown",
      "metadata": {
        "id": "qtzPaucGnkE_",
        "colab_type": "text"
      },
      "source": [
        "# Start of code"
      ]
    },
    {
      "cell_type": "code",
      "metadata": {
        "colab_type": "code",
        "outputId": "0cef3349-f17d-4083-f209-25afc6b8a1d9",
        "id": "UedUqVvEngEl",
        "colab": {
          "base_uri": "https://localhost:8080/",
          "height": 102
        }
      },
      "source": [
        "!pip install vaderSentiment"
      ],
      "execution_count": 0,
      "outputs": [
        {
          "output_type": "stream",
          "text": [
            "Collecting vaderSentiment\n",
            "\u001b[?25l  Downloading https://files.pythonhosted.org/packages/86/9e/c53e1fc61aac5ee490a6ac5e21b1ac04e55a7c2aba647bb8411c9aadf24e/vaderSentiment-3.2.1-py2.py3-none-any.whl (125kB)\n",
            "\u001b[K     |████████████████████████████████| 133kB 2.8MB/s \n",
            "\u001b[?25hInstalling collected packages: vaderSentiment\n",
            "Successfully installed vaderSentiment-3.2.1\n"
          ],
          "name": "stdout"
        }
      ]
    },
    {
      "cell_type": "code",
      "metadata": {
        "id": "jk7CKF3SP_5v",
        "colab_type": "code",
        "colab": {}
      },
      "source": [
        "import pandas as pd\n",
        "import numpy as np\n",
        "import seaborn as sns\n",
        "from collections import Counter\n",
        "import re\n",
        "import vaderSentiment\n",
        "from vaderSentiment.vaderSentiment import SentimentIntensityAnalyzer\n",
        "import os\n",
        "import matplotlib.pyplot as plt\n",
        "\n",
        "# Pathfiles\n",
        "pd.set_option('display.max_colwidth', -1)\n",
        "tweet_datapath = \"/content/drive/Shared drives/ADA/Data_Tweets/\""
      ],
      "execution_count": 0,
      "outputs": []
    },
    {
      "cell_type": "markdown",
      "metadata": {
        "id": "lKkPjDvbEqxc",
        "colab_type": "text"
      },
      "source": [
        "## Weather Pipeline\n"
      ]
    },
    {
      "cell_type": "markdown",
      "metadata": {
        "id": "huK1_l6yB1ad",
        "colab_type": "text"
      },
      "source": [
        "Get the weather "
      ]
    },
    {
      "cell_type": "code",
      "metadata": {
        "id": "5-gGZatdB0cV",
        "colab_type": "code",
        "colab": {}
      },
      "source": [
        "def parse_weather_file(file,n_col,city):\n",
        "    data = []\n",
        "    with open(file, 'r') as file_object:\n",
        "        for ind,line in enumerate(file_object):\n",
        "            if ind==10:\n",
        "                col = line.split(',')\n",
        "            elif ind>11:\n",
        "                line = line\n",
        "                line_split = line.split(',')\n",
        "                \n",
        "                if(len(line_split)==n_col):\n",
        "                    line_split[-1]=[line_split[-1].replace('\\n','')]\n",
        "                    data.append(line_split)\n",
        "                elif(len(line_split)<n_col):\n",
        "                  counterless+=1\n",
        "                elif(len(line_split)>n_col):\n",
        "                  \n",
        "                  line_split[n_col-1]=[l.replace('\\n','') for l in line_split[n_col:]]\n",
        "                  data.append(line_split[:n_col])\n",
        "                elif(len(line_split)>n_col+2):\n",
        "                  countermore+=1\n",
        "                  lenght.append(len(line_split))\n",
        "                  bis.append(line_split)\n",
        "                else:\n",
        "                    pass\n",
        "    df = pd.DataFrame(data)\n",
        "    df.columns = col\n",
        "    df['location'] = city\n",
        "    df['Date_Time'] = pd.to_datetime(df['Date_Time'])\n",
        "    return df"
      ],
      "execution_count": 0,
      "outputs": []
    },
    {
      "cell_type": "code",
      "metadata": {
        "id": "L5kdoCPKfzQa",
        "colab_type": "code",
        "colab": {}
      },
      "source": [
        "NY_weather = parse_weather_file(tweet_datapath+'meteo_csv/NY_weather.csv',36,'New York')\n",
        "LA_weather = parse_weather_file(tweet_datapath+'meteo_csv/LA_weather.csv',36,'Los Angeles')\n",
        "ATL_weather = parse_weather_file(tweet_datapath+'meteo_csv/ATL_weather.csv',37,'Atlanta')\n",
        "CHI_weather = parse_weather_file(tweet_datapath+'meteo_csv/CHI_weather.csv',37,'Chicago')"
      ],
      "execution_count": 0,
      "outputs": []
    },
    {
      "cell_type": "code",
      "metadata": {
        "id": "5Gfglvb5iWu3",
        "colab_type": "code",
        "outputId": "5023d905-c8da-442c-d845-b5736862087b",
        "colab": {
          "base_uri": "https://localhost:8080/",
          "height": 309
        }
      },
      "source": [
        "weather = pd.concat([NY_weather,LA_weather,ATL_weather,CHI_weather],sort=True)\n",
        "weather.head()"
      ],
      "execution_count": 0,
      "outputs": [
        {
          "output_type": "execute_result",
          "data": {
            "text/html": [
              "<div>\n",
              "<style scoped>\n",
              "    .dataframe tbody tr th:only-of-type {\n",
              "        vertical-align: middle;\n",
              "    }\n",
              "\n",
              "    .dataframe tbody tr th {\n",
              "        vertical-align: top;\n",
              "    }\n",
              "\n",
              "    .dataframe thead th {\n",
              "        text-align: right;\n",
              "    }\n",
              "</style>\n",
              "<table border=\"1\" class=\"dataframe\">\n",
              "  <thead>\n",
              "    <tr style=\"text-align: right;\">\n",
              "      <th></th>\n",
              "      <th>Date_Time</th>\n",
              "      <th>Station_ID</th>\n",
              "      <th>air_temp_high_24_hour_set_1</th>\n",
              "      <th>air_temp_high_6_hour_set_1</th>\n",
              "      <th>air_temp_low_24_hour_set_1</th>\n",
              "      <th>air_temp_low_6_hour_set_1</th>\n",
              "      <th>air_temp_set_1</th>\n",
              "      <th>altimeter_set_1</th>\n",
              "      <th>ceiling_set_1</th>\n",
              "      <th>cloud_layer_1_code_set_1</th>\n",
              "      <th>cloud_layer_2_code_set_1</th>\n",
              "      <th>cloud_layer_3_code_set_1</th>\n",
              "      <th>dew_point_temperature_set_1</th>\n",
              "      <th>dew_point_temperature_set_1d</th>\n",
              "      <th>heat_index_set_1d</th>\n",
              "      <th>location</th>\n",
              "      <th>metar_set_1</th>\n",
              "      <th>peak_wind_direction_set_1</th>\n",
              "      <th>peak_wind_speed_set_1</th>\n",
              "      <th>precip_accum_24_hour_set_1</th>\n",
              "      <th>precip_accum_one_hour_set_1</th>\n",
              "      <th>precip_accum_six_hour_set_1</th>\n",
              "      <th>precip_accum_three_hour_set_1</th>\n",
              "      <th>pressure_change_code_set_1</th>\n",
              "      <th>pressure_set_1d</th>\n",
              "      <th>pressure_tendency_set_1</th>\n",
              "      <th>relative_humidity_set_1</th>\n",
              "      <th>sea_level_pressure_set_1</th>\n",
              "      <th>sea_level_pressure_set_1d</th>\n",
              "      <th>snow_depth_set_1</th>\n",
              "      <th>visibility_set_1</th>\n",
              "      <th>weather_cond_code_set_1</th>\n",
              "      <th>weather_condition_set_1d\\n</th>\n",
              "      <th>wind_cardinal_direction_set_1d</th>\n",
              "      <th>wind_chill_set_1d</th>\n",
              "      <th>wind_direction_set_1</th>\n",
              "      <th>wind_gust_set_1</th>\n",
              "      <th>wind_speed_set_1</th>\n",
              "    </tr>\n",
              "  </thead>\n",
              "  <tbody>\n",
              "    <tr>\n",
              "      <th>0</th>\n",
              "      <td>2009-04-01 00:51:00+00:00</td>\n",
              "      <td>KNYC</td>\n",
              "      <td></td>\n",
              "      <td></td>\n",
              "      <td></td>\n",
              "      <td></td>\n",
              "      <td>7.8</td>\n",
              "      <td>101768.99</td>\n",
              "      <td></td>\n",
              "      <td>1.0</td>\n",
              "      <td></td>\n",
              "      <td></td>\n",
              "      <td></td>\n",
              "      <td>-0.09</td>\n",
              "      <td></td>\n",
              "      <td>New York</td>\n",
              "      <td></td>\n",
              "      <td></td>\n",
              "      <td></td>\n",
              "      <td></td>\n",
              "      <td></td>\n",
              "      <td></td>\n",
              "      <td></td>\n",
              "      <td></td>\n",
              "      <td>101204.43</td>\n",
              "      <td></td>\n",
              "      <td>57.77</td>\n",
              "      <td>102250.0</td>\n",
              "      <td>101783.37</td>\n",
              "      <td>NaN</td>\n",
              "      <td>10.0</td>\n",
              "      <td></td>\n",
              "      <td>[Clear]</td>\n",
              "      <td></td>\n",
              "      <td></td>\n",
              "      <td></td>\n",
              "      <td>7.2</td>\n",
              "      <td>3.09</td>\n",
              "    </tr>\n",
              "    <tr>\n",
              "      <th>1</th>\n",
              "      <td>2009-04-01 01:51:00+00:00</td>\n",
              "      <td>KNYC</td>\n",
              "      <td></td>\n",
              "      <td></td>\n",
              "      <td></td>\n",
              "      <td></td>\n",
              "      <td>7.2</td>\n",
              "      <td>101735.32</td>\n",
              "      <td></td>\n",
              "      <td>1.0</td>\n",
              "      <td></td>\n",
              "      <td></td>\n",
              "      <td></td>\n",
              "      <td>-0.08</td>\n",
              "      <td></td>\n",
              "      <td>New York</td>\n",
              "      <td></td>\n",
              "      <td></td>\n",
              "      <td></td>\n",
              "      <td></td>\n",
              "      <td></td>\n",
              "      <td></td>\n",
              "      <td></td>\n",
              "      <td></td>\n",
              "      <td>101170.94</td>\n",
              "      <td></td>\n",
              "      <td>60.19</td>\n",
              "      <td>102210.0</td>\n",
              "      <td>101750.93</td>\n",
              "      <td>NaN</td>\n",
              "      <td>10.0</td>\n",
              "      <td></td>\n",
              "      <td>[Clear]</td>\n",
              "      <td>SE</td>\n",
              "      <td></td>\n",
              "      <td>140.0</td>\n",
              "      <td></td>\n",
              "      <td>4.12</td>\n",
              "    </tr>\n",
              "    <tr>\n",
              "      <th>2</th>\n",
              "      <td>2009-04-01 02:51:00+00:00</td>\n",
              "      <td>KNYC</td>\n",
              "      <td></td>\n",
              "      <td></td>\n",
              "      <td></td>\n",
              "      <td></td>\n",
              "      <td>6.7</td>\n",
              "      <td>101768.99</td>\n",
              "      <td></td>\n",
              "      <td>1.0</td>\n",
              "      <td></td>\n",
              "      <td></td>\n",
              "      <td></td>\n",
              "      <td>1.03</td>\n",
              "      <td></td>\n",
              "      <td>New York</td>\n",
              "      <td></td>\n",
              "      <td></td>\n",
              "      <td></td>\n",
              "      <td></td>\n",
              "      <td></td>\n",
              "      <td></td>\n",
              "      <td></td>\n",
              "      <td></td>\n",
              "      <td>101204.43</td>\n",
              "      <td>1009.0</td>\n",
              "      <td>67.44</td>\n",
              "      <td>102260.0</td>\n",
              "      <td>101785.65</td>\n",
              "      <td>NaN</td>\n",
              "      <td>10.0</td>\n",
              "      <td></td>\n",
              "      <td>[Clear]</td>\n",
              "      <td>SSE</td>\n",
              "      <td></td>\n",
              "      <td>160.0</td>\n",
              "      <td></td>\n",
              "      <td>2.57</td>\n",
              "    </tr>\n",
              "    <tr>\n",
              "      <th>3</th>\n",
              "      <td>2009-04-01 03:51:00+00:00</td>\n",
              "      <td>KNYC</td>\n",
              "      <td></td>\n",
              "      <td></td>\n",
              "      <td></td>\n",
              "      <td></td>\n",
              "      <td>6.1</td>\n",
              "      <td>101870.02</td>\n",
              "      <td></td>\n",
              "      <td>1.0</td>\n",
              "      <td></td>\n",
              "      <td></td>\n",
              "      <td></td>\n",
              "      <td>1.64</td>\n",
              "      <td></td>\n",
              "      <td>New York</td>\n",
              "      <td></td>\n",
              "      <td></td>\n",
              "      <td></td>\n",
              "      <td></td>\n",
              "      <td></td>\n",
              "      <td></td>\n",
              "      <td></td>\n",
              "      <td></td>\n",
              "      <td>101304.89</td>\n",
              "      <td></td>\n",
              "      <td>73.38</td>\n",
              "      <td>102340.0</td>\n",
              "      <td>101887.94</td>\n",
              "      <td>NaN</td>\n",
              "      <td>10.0</td>\n",
              "      <td></td>\n",
              "      <td>[Clear]</td>\n",
              "      <td>SSE</td>\n",
              "      <td></td>\n",
              "      <td>150.0</td>\n",
              "      <td></td>\n",
              "      <td>3.09</td>\n",
              "    </tr>\n",
              "    <tr>\n",
              "      <th>4</th>\n",
              "      <td>2009-04-01 04:51:00+00:00</td>\n",
              "      <td>KNYC</td>\n",
              "      <td>15.6</td>\n",
              "      <td></td>\n",
              "      <td>3.3</td>\n",
              "      <td></td>\n",
              "      <td>6.1</td>\n",
              "      <td>101870.02</td>\n",
              "      <td></td>\n",
              "      <td>1.0</td>\n",
              "      <td></td>\n",
              "      <td></td>\n",
              "      <td></td>\n",
              "      <td>2.15</td>\n",
              "      <td></td>\n",
              "      <td>New York</td>\n",
              "      <td></td>\n",
              "      <td></td>\n",
              "      <td></td>\n",
              "      <td></td>\n",
              "      <td></td>\n",
              "      <td></td>\n",
              "      <td></td>\n",
              "      <td></td>\n",
              "      <td>101304.89</td>\n",
              "      <td></td>\n",
              "      <td>76.05</td>\n",
              "      <td>102350.0</td>\n",
              "      <td>101887.94</td>\n",
              "      <td>NaN</td>\n",
              "      <td>10.0</td>\n",
              "      <td></td>\n",
              "      <td>[Clear]</td>\n",
              "      <td>SSE</td>\n",
              "      <td></td>\n",
              "      <td>160.0</td>\n",
              "      <td></td>\n",
              "      <td>3.09</td>\n",
              "    </tr>\n",
              "  </tbody>\n",
              "</table>\n",
              "</div>"
            ],
            "text/plain": [
              "                  Date_Time Station_ID  ... wind_gust_set_1 wind_speed_set_1\n",
              "0 2009-04-01 00:51:00+00:00  KNYC       ...  7.2             3.09           \n",
              "1 2009-04-01 01:51:00+00:00  KNYC       ...                  4.12           \n",
              "2 2009-04-01 02:51:00+00:00  KNYC       ...                  2.57           \n",
              "3 2009-04-01 03:51:00+00:00  KNYC       ...                  3.09           \n",
              "4 2009-04-01 04:51:00+00:00  KNYC       ...                  3.09           \n",
              "\n",
              "[5 rows x 38 columns]"
            ]
          },
          "metadata": {
            "tags": []
          },
          "execution_count": 20
        }
      ]
    },
    {
      "cell_type": "markdown",
      "metadata": {
        "id": "4GoRW4I3iQ5G",
        "colab_type": "text"
      },
      "source": [
        "Clean weather dataset and arbitrary weather condition grading "
      ]
    },
    {
      "cell_type": "code",
      "metadata": {
        "id": "y8S31bnIiQFL",
        "colab_type": "code",
        "colab": {}
      },
      "source": [
        "def grade_weather(weather_conds):\n",
        "    weather_dict ={}\n",
        "    weather_dict[3] = ['Clear','Mostly Clear']\n",
        "    weather_dict[2] = ['Overcast','Mostly Cloudy','Partly Cloudy']\n",
        "    weather_dict[1] = ['Mist','Haze','Fog','Light Drizzle','Ice Fog','Smoke','Squalls']\n",
        "    weather_dict[0] = ['Light Rain','Thunder','Light Rain/Thunderstorm','Rain','Heavy Rain',\\\n",
        "                       'Thunderstorm','Heavy Rain/Thunderstorm','Light Ice Pellets',\\\n",
        "                       'Unknown Precip','Light Frz Rain','Ice pellets','Heavy Hail','Hail',\n",
        "                       'Squalls']\n",
        "    snow = ['Light Snow','Blowing Snow','Snow']\n",
        "    grade = []\n",
        "    snowing = False\n",
        "    for w in weather_conds:\n",
        "        for ind in weather_dict:\n",
        "            if w in weather_dict[ind]:\n",
        "                grade.append(ind)\n",
        "            elif w in snow:\n",
        "                snowing = True\n",
        "          \n",
        "    if snowing:\n",
        "        return 'snow'\n",
        "    elif grade:\n",
        "        return min(grade)\n",
        "    else:\n",
        "        return None \n",
        "\n",
        "def clean_and_grade_weather(weather_df):\n",
        "    \n",
        "    weather_df.loc[:,'weather_cond']=weather_df['weather_condition_set_1d\\n'].map(lambda conds : grade_weather(conds))\n",
        "    weather_df.loc[:,'precip_hour'] = weather['precip_accum_one_hour_set_1'].replace(r'^\\s*$', np.nan, regex=True).map(lambda x : float(x)) # checker que fill avec 0 c'est correcte\n",
        "    weather_df.loc[:,'temperature'] = weather['air_temp_set_1'].replace(r'^\\s*$', np.nan, regex=True).map(lambda x : float(x))\n",
        "    weather_df.loc[:,'pression'] = weather['pressure_set_1d'].replace(r'^\\s*$', np.nan, regex=True).map(lambda x : float(x))\n",
        "    weather_df.loc[:,'humidity'] = weather['relative_humidity_set_1'].replace(r'^\\s*$', np.nan, regex=True).map(lambda x : float(x))\n",
        "    weather_df.loc[:,'visibility'] = weather['visibility_set_1'].replace(r'^\\s*$', np.nan, regex=True).map(lambda x : float(x))\n",
        "    weather_df.loc[:,'wind_speed'] = weather['wind_speed_set_1'].replace(r'^\\s*$', np.nan, regex=True).map(lambda x : float(x))\n",
        "    weather_df.loc[:,'date/time'] = weather['Date_Time']\n",
        "    to_keep = ['date/time','location','weather_cond','precip_hour','temperature','pression','humidity','wind_speed','visibility']\n",
        "\n",
        "    return weather_df[to_keep].dropna(subset=['weather_cond'])"
      ],
      "execution_count": 0,
      "outputs": []
    },
    {
      "cell_type": "code",
      "metadata": {
        "id": "uKJi9Xfnt_hM",
        "colab_type": "code",
        "outputId": "e91e5d4a-b9b7-480c-cf9c-7381ddd649c1",
        "colab": {
          "base_uri": "https://localhost:8080/",
          "height": 292
        }
      },
      "source": [
        "weather_cleaned=clean_and_grade_weather(weather)\n",
        "weather_cleaned.head()"
      ],
      "execution_count": 0,
      "outputs": [
        {
          "output_type": "stream",
          "text": [
            "/usr/local/lib/python3.6/dist-packages/pandas/core/indexing.py:376: FutureWarning: Converting timezone-aware DatetimeArray to timezone-naive ndarray with 'datetime64[ns]' dtype. In the future, this will return an ndarray with 'object' dtype where each element is a 'pandas.Timestamp' with the correct 'tz'.\n",
            "\tTo accept the future behavior, pass 'dtype=object'.\n",
            "\tTo keep the old behavior, pass 'dtype=\"datetime64[ns]\"'.\n",
            "  self.obj[key] = _infer_fill_value(value)\n"
          ],
          "name": "stderr"
        },
        {
          "output_type": "execute_result",
          "data": {
            "text/html": [
              "<div>\n",
              "<style scoped>\n",
              "    .dataframe tbody tr th:only-of-type {\n",
              "        vertical-align: middle;\n",
              "    }\n",
              "\n",
              "    .dataframe tbody tr th {\n",
              "        vertical-align: top;\n",
              "    }\n",
              "\n",
              "    .dataframe thead th {\n",
              "        text-align: right;\n",
              "    }\n",
              "</style>\n",
              "<table border=\"1\" class=\"dataframe\">\n",
              "  <thead>\n",
              "    <tr style=\"text-align: right;\">\n",
              "      <th></th>\n",
              "      <th>date/time</th>\n",
              "      <th>location</th>\n",
              "      <th>weather_cond</th>\n",
              "      <th>precip_hour</th>\n",
              "      <th>temperature</th>\n",
              "      <th>pression</th>\n",
              "      <th>humidity</th>\n",
              "      <th>wind_speed</th>\n",
              "      <th>visibility</th>\n",
              "    </tr>\n",
              "  </thead>\n",
              "  <tbody>\n",
              "    <tr>\n",
              "      <th>0</th>\n",
              "      <td>2009-04-01 00:51:00+00:00</td>\n",
              "      <td>New York</td>\n",
              "      <td>3</td>\n",
              "      <td>NaN</td>\n",
              "      <td>7.8</td>\n",
              "      <td>101204.43</td>\n",
              "      <td>57.77</td>\n",
              "      <td>3.09</td>\n",
              "      <td>10.0</td>\n",
              "    </tr>\n",
              "    <tr>\n",
              "      <th>1</th>\n",
              "      <td>2009-04-01 01:51:00+00:00</td>\n",
              "      <td>New York</td>\n",
              "      <td>3</td>\n",
              "      <td>NaN</td>\n",
              "      <td>7.2</td>\n",
              "      <td>101170.94</td>\n",
              "      <td>60.19</td>\n",
              "      <td>4.12</td>\n",
              "      <td>10.0</td>\n",
              "    </tr>\n",
              "    <tr>\n",
              "      <th>2</th>\n",
              "      <td>2009-04-01 02:51:00+00:00</td>\n",
              "      <td>New York</td>\n",
              "      <td>3</td>\n",
              "      <td>NaN</td>\n",
              "      <td>6.7</td>\n",
              "      <td>101204.43</td>\n",
              "      <td>67.44</td>\n",
              "      <td>2.57</td>\n",
              "      <td>10.0</td>\n",
              "    </tr>\n",
              "    <tr>\n",
              "      <th>3</th>\n",
              "      <td>2009-04-01 03:51:00+00:00</td>\n",
              "      <td>New York</td>\n",
              "      <td>3</td>\n",
              "      <td>NaN</td>\n",
              "      <td>6.1</td>\n",
              "      <td>101304.89</td>\n",
              "      <td>73.38</td>\n",
              "      <td>3.09</td>\n",
              "      <td>10.0</td>\n",
              "    </tr>\n",
              "    <tr>\n",
              "      <th>4</th>\n",
              "      <td>2009-04-01 04:51:00+00:00</td>\n",
              "      <td>New York</td>\n",
              "      <td>3</td>\n",
              "      <td>NaN</td>\n",
              "      <td>6.1</td>\n",
              "      <td>101304.89</td>\n",
              "      <td>76.05</td>\n",
              "      <td>3.09</td>\n",
              "      <td>10.0</td>\n",
              "    </tr>\n",
              "  </tbody>\n",
              "</table>\n",
              "</div>"
            ],
            "text/plain": [
              "                  date/time  location  ... wind_speed  visibility\n",
              "0 2009-04-01 00:51:00+00:00  New York  ...  3.09       10.0      \n",
              "1 2009-04-01 01:51:00+00:00  New York  ...  4.12       10.0      \n",
              "2 2009-04-01 02:51:00+00:00  New York  ...  2.57       10.0      \n",
              "3 2009-04-01 03:51:00+00:00  New York  ...  3.09       10.0      \n",
              "4 2009-04-01 04:51:00+00:00  New York  ...  3.09       10.0      \n",
              "\n",
              "[5 rows x 9 columns]"
            ]
          },
          "metadata": {
            "tags": []
          },
          "execution_count": 22
        }
      ]
    },
    {
      "cell_type": "markdown",
      "metadata": {
        "id": "3UjNVK4Tfrg7",
        "colab_type": "text"
      },
      "source": [
        "Averaging of weather hourly and daily. For the daily average, we keep only the data from 6 am to midnight because we suppose twitting people spend their night inside."
      ]
    },
    {
      "cell_type": "code",
      "metadata": {
        "id": "bZV5llIWfxZZ",
        "colab_type": "code",
        "colab": {}
      },
      "source": [
        "def average_time_hourly(df_weather):\n",
        "    df = df_weather.copy()\n",
        "    df['date/time']=df['date/time'].apply(lambda time : time.replace( minute=0, second=0, microsecond=0))\n",
        "    df_avg = pd.DataFrame(columns=df.columns)\n",
        "    to_mean =['precip_hour','temperature','pression','humidity','visibility','wind_speed']\n",
        "    for ind,time in enumerate(df['date/time'].unique()):\n",
        "        for ind_,city in enumerate(df['location'].unique()):\n",
        "            df_it =  df[(df['date/time'] == time) & (df['location'] == city)]\n",
        "            if df_it.shape[0]:\n",
        "                df_avg.at[ind+ind_*9000,to_mean] = df_it[to_mean].mean(numeric_only=True)\n",
        "                df_avg.at[ind+ind_*9000,'date/time']= time\n",
        "                df_avg.at[ind+ind_*9000,'location']= city\n",
        "                if 'snow' in df_it.weather_cond.values:\n",
        "                    df_avg.at[ind+ind_*9000,'weather_cond']= 'snow'\n",
        "                else: \n",
        "                    if list(df_it.weather_cond.values):\n",
        "                        df_avg.at[ind+ind_*9000,'weather_cond']= Counter(df_it.weather_cond.values).most_common()[0][0] # keep the more represented and if there is equality, the worse weather condition\n",
        "    df_avg.index = range(df_avg.shape[0])                \n",
        "    return df_avg\n",
        "\n",
        "def average_time_daily(df_weather):\n",
        "    df = df_weather[df_weather['date/time'].apply(lambda datetime : datetime.hour>5)].copy()\n",
        "    df['date/time']=df['date/time'].apply(lambda time : time.replace( hour=0,minute=0, second=0, microsecond=0))\n",
        "    df_avg = pd.DataFrame(columns=df.columns)\n",
        "    to_mean =['precip_hour','temperature','pression','humidity','visibility','wind_speed']\n",
        "    for ind,time in enumerate(df['date/time'].unique()):\n",
        "        for ind_,city in enumerate(df['location'].unique()):\n",
        "            df_it = df[(df['date/time'] == time) & (df['location'] == city)]\n",
        "            if df_it.shape[0]:\n",
        "                df_avg.at[ind+ind_*365,to_mean] = df_it[to_mean].mean(numeric_only=True)\n",
        "                df_avg.loc[ind+ind_*365,'date/time']= time\n",
        "                df_avg.loc[ind+ind_*365,'location']= city\n",
        "                if 'snow' in df_it.weather_cond.values:\n",
        "                    df_avg.loc[ind+ind_*365,'weather_cond']= 'snow'\n",
        "                else: \n",
        "                    if list(df_it.weather_cond.values):\n",
        "                        df_avg.loc[ind+ind_*365,'weather_cond']=df_it.weather_cond.values #Counter(df_it.weather_cond.values).most_common()[0][0] # keep the more represented and if there is equality, the worse weather condition\n",
        "    df_avg.index = range(df_avg.shape[0])\n",
        "    return df_avg"
      ],
      "execution_count": 0,
      "outputs": []
    },
    {
      "cell_type": "code",
      "metadata": {
        "id": "c5KhkcHgfqin",
        "colab_type": "code",
        "colab": {}
      },
      "source": [
        "weather_hourly=average_time_hourly(weather_cleaned)\n",
        "weather_daily=average_time_daily(weather_cleaned)"
      ],
      "execution_count": 0,
      "outputs": []
    },
    {
      "cell_type": "code",
      "metadata": {
        "id": "xQmPk_kOPNcd",
        "colab_type": "code",
        "colab": {}
      },
      "source": [
        "weather_hourly.to_pickle(tweet_datapath+'meteo_csv/Weather_hourly')\n",
        "weather_daily.to_pickle(tweet_datapath+'meteo_csv/Weather_daily')"
      ],
      "execution_count": 0,
      "outputs": []
    },
    {
      "cell_type": "markdown",
      "metadata": {
        "id": "LgS5LlsxE3MP",
        "colab_type": "text"
      },
      "source": [
        "## Tweets Pipeline"
      ]
    },
    {
      "cell_type": "markdown",
      "metadata": {
        "id": "RmFinghtfWz0",
        "colab_type": "text"
      },
      "source": [
        "Ajouter partie de Max"
      ]
    },
    {
      "cell_type": "markdown",
      "metadata": {
        "id": "sW4Oq7vYVADc",
        "colab_type": "text"
      },
      "source": [
        "# New Section"
      ]
    },
    {
      "cell_type": "code",
      "metadata": {
        "id": "ZQUREkn8QBa8",
        "colab_type": "code",
        "colab": {}
      },
      "source": [
        "Tweets=pd.read_pickle(tweet_datapath+'data_frame_with_address.pickle')"
      ],
      "execution_count": 0,
      "outputs": []
    },
    {
      "cell_type": "code",
      "metadata": {
        "id": "xkMOTUY-Qh1O",
        "colab_type": "code",
        "colab": {}
      },
      "source": [
        "analyzer = SentimentIntensityAnalyzer()\n",
        "def get_sentiment(tweet):\n",
        "    return analyzer.polarity_scores(tweet)\n",
        "def adress_to_city(text):\n",
        "  address = text.split(',')\n",
        "  city=''\n",
        "  if len(address)>3:\n",
        "    city = address[-3]\n",
        "  city = ' '.join(city.split())\n",
        "  if city in ['Brooklyn','The Bronx']: # both are in New York\n",
        "    city = 'New York'\n",
        "  return city"
      ],
      "execution_count": 0,
      "outputs": []
    },
    {
      "cell_type": "code",
      "metadata": {
        "id": "2_RzKSP_R-pc",
        "colab_type": "code",
        "colab": {}
      },
      "source": [
        "Tweets.loc[:,'location']=''\n",
        "Tweets.loc[:,'location'] = Tweets.Address.map(lambda text: adress_to_city(text)) #keep only city name from adress we get with google request from longitude and latitude\n",
        "Tweets = Tweets.drop(columns=['longitude','latitude','Address'])"
      ],
      "execution_count": 0,
      "outputs": []
    },
    {
      "cell_type": "code",
      "metadata": {
        "id": "tiRQyzLzQfBB",
        "colab_type": "code",
        "colab": {}
      },
      "source": [
        "Tweets['sentiment'] = Tweets.tweet.map(lambda text: get_sentiment(text))"
      ],
      "execution_count": 0,
      "outputs": []
    },
    {
      "cell_type": "markdown",
      "metadata": {
        "id": "9EE6l0T1Zd1A",
        "colab_type": "text"
      },
      "source": [
        "We only keep the biggest cities. New york is over-represented (600 000 tweet are from there)"
      ]
    },
    {
      "cell_type": "code",
      "metadata": {
        "id": "QDg-pryOOdi7",
        "colab_type": "code",
        "outputId": "77a35b6c-45ec-4363-918c-2c9337fad9f7",
        "colab": {
          "base_uri": "https://localhost:8080/",
          "height": 419
        }
      },
      "source": [
        "cities =['New York','Los Angeles','Atlanta','Chicago']\n",
        "Tweets = Tweets[Tweets.location.apply(lambda x : x in cities)]\n",
        "Tweets.loc[:,'date/time']= pd.to_datetime(Tweets['date/time'], errors = 'coerce')\n",
        "Tweets"
      ],
      "execution_count": 0,
      "outputs": [
        {
          "output_type": "execute_result",
          "data": {
            "text/html": [
              "<div>\n",
              "<style scoped>\n",
              "    .dataframe tbody tr th:only-of-type {\n",
              "        vertical-align: middle;\n",
              "    }\n",
              "\n",
              "    .dataframe tbody tr th {\n",
              "        vertical-align: top;\n",
              "    }\n",
              "\n",
              "    .dataframe thead th {\n",
              "        text-align: right;\n",
              "    }\n",
              "</style>\n",
              "<table border=\"1\" class=\"dataframe\">\n",
              "  <thead>\n",
              "    <tr style=\"text-align: right;\">\n",
              "      <th></th>\n",
              "      <th>user_id</th>\n",
              "      <th>tweet_id</th>\n",
              "      <th>tweet</th>\n",
              "      <th>date/time</th>\n",
              "      <th>date</th>\n",
              "      <th>time</th>\n",
              "      <th>location</th>\n",
              "    </tr>\n",
              "  </thead>\n",
              "  <tbody>\n",
              "    <tr>\n",
              "      <th>3996</th>\n",
              "      <td>26976263.0</td>\n",
              "      <td>10463459952</td>\n",
              "      <td>(Butting in) you guys are funny! #thatsall RT @skinnyjeanius: @MsWoods03 just felt like saying that</td>\n",
              "      <td>2010-03-14 04:17:20</td>\n",
              "      <td>2010-03-14</td>\n",
              "      <td>04:17:20</td>\n",
              "      <td>Los Angeles</td>\n",
              "    </tr>\n",
              "    <tr>\n",
              "      <th>3997</th>\n",
              "      <td>26976263.0</td>\n",
              "      <td>10448724780</td>\n",
              "      <td>Ha ha ha! Me too!!! They can't take it! RT @MsWoods03: @SirAndrewK LOL! I love it!!! I guess because I enjoy being ignorant! LOL!</td>\n",
              "      <td>2010-03-13 19:51:41</td>\n",
              "      <td>2010-03-13</td>\n",
              "      <td>19:51:41</td>\n",
              "      <td>Los Angeles</td>\n",
              "    </tr>\n",
              "    <tr>\n",
              "      <th>3998</th>\n",
              "      <td>26976263.0</td>\n",
              "      <td>10443016149</td>\n",
              "      <td>You have nooooo idea...and ummm no comment lol @tiggaluv</td>\n",
              "      <td>2010-03-13 17:18:50</td>\n",
              "      <td>2010-03-13</td>\n",
              "      <td>17:18:50</td>\n",
              "      <td>Los Angeles</td>\n",
              "    </tr>\n",
              "    <tr>\n",
              "      <th>3999</th>\n",
              "      <td>26976263.0</td>\n",
              "      <td>10442992477</td>\n",
              "      <td>I have a laundry list of people who deserve to be pistol whipped..Anacostia Style!</td>\n",
              "      <td>2010-03-13 17:18:11</td>\n",
              "      <td>2010-03-13</td>\n",
              "      <td>17:18:11</td>\n",
              "      <td>Los Angeles</td>\n",
              "    </tr>\n",
              "    <tr>\n",
              "      <th>4000</th>\n",
              "      <td>26976263.0</td>\n",
              "      <td>10442944932</td>\n",
              "      <td>Ha ha ha!!! You stupid!! LOL! RT @MsWoods03: That sounds fun!!!  RT @SirAndrewK: Feeling particularly ignorant today...BEWARE!</td>\n",
              "      <td>2010-03-13 17:16:52</td>\n",
              "      <td>2010-03-13</td>\n",
              "      <td>17:16:52</td>\n",
              "      <td>Los Angeles</td>\n",
              "    </tr>\n",
              "    <tr>\n",
              "      <th>...</th>\n",
              "      <td>...</td>\n",
              "      <td>...</td>\n",
              "      <td>...</td>\n",
              "      <td>...</td>\n",
              "      <td>...</td>\n",
              "      <td>...</td>\n",
              "      <td>...</td>\n",
              "    </tr>\n",
              "    <tr>\n",
              "      <th>5009490</th>\n",
              "      <td>73016661.0</td>\n",
              "      <td>8082730603</td>\n",
              "      <td>@NYCsocialit3 nun u</td>\n",
              "      <td>2010-01-22 14:14:30</td>\n",
              "      <td>2010-01-22</td>\n",
              "      <td>14:14:30</td>\n",
              "      <td>New York</td>\n",
              "    </tr>\n",
              "    <tr>\n",
              "      <th>5009491</th>\n",
              "      <td>73016661.0</td>\n",
              "      <td>8081316956</td>\n",
              "      <td>RT @BonesThisWorld: A trip too harlem for a few. Skull gang</td>\n",
              "      <td>2010-01-22 13:28:51</td>\n",
              "      <td>2010-01-22</td>\n",
              "      <td>13:28:51</td>\n",
              "      <td>New York</td>\n",
              "    </tr>\n",
              "    <tr>\n",
              "      <th>5009492</th>\n",
              "      <td>73016661.0</td>\n",
              "      <td>8076088351</td>\n",
              "      <td>@Uniquehope was good</td>\n",
              "      <td>2010-01-22 10:53:13</td>\n",
              "      <td>2010-01-22</td>\n",
              "      <td>10:53:13</td>\n",
              "      <td>New York</td>\n",
              "    </tr>\n",
              "    <tr>\n",
              "      <th>5009493</th>\n",
              "      <td>73016661.0</td>\n",
              "      <td>8075627082</td>\n",
              "      <td>@DaStar6MFM lmaooo yea dat shit is crazy</td>\n",
              "      <td>2010-01-22 10:40:05</td>\n",
              "      <td>2010-01-22</td>\n",
              "      <td>10:40:05</td>\n",
              "      <td>New York</td>\n",
              "    </tr>\n",
              "    <tr>\n",
              "      <th>5009494</th>\n",
              "      <td>73016661.0</td>\n",
              "      <td>8075339471</td>\n",
              "      <td>@RichKidLife lol I feel u</td>\n",
              "      <td>2010-01-22 10:31:59</td>\n",
              "      <td>2010-01-22</td>\n",
              "      <td>10:31:59</td>\n",
              "      <td>New York</td>\n",
              "    </tr>\n",
              "  </tbody>\n",
              "</table>\n",
              "<p>905242 rows × 7 columns</p>\n",
              "</div>"
            ],
            "text/plain": [
              "            user_id     tweet_id  ...      time     location\n",
              "3996     26976263.0  10463459952  ...  04:17:20  Los Angeles\n",
              "3997     26976263.0  10448724780  ...  19:51:41  Los Angeles\n",
              "3998     26976263.0  10443016149  ...  17:18:50  Los Angeles\n",
              "3999     26976263.0  10442992477  ...  17:18:11  Los Angeles\n",
              "4000     26976263.0  10442944932  ...  17:16:52  Los Angeles\n",
              "...             ...          ...  ...       ...          ...\n",
              "5009490  73016661.0  8082730603   ...  14:14:30  New York   \n",
              "5009491  73016661.0  8081316956   ...  13:28:51  New York   \n",
              "5009492  73016661.0  8076088351   ...  10:53:13  New York   \n",
              "5009493  73016661.0  8075627082   ...  10:40:05  New York   \n",
              "5009494  73016661.0  8075339471   ...  10:31:59  New York   \n",
              "\n",
              "[905242 rows x 7 columns]"
            ]
          },
          "metadata": {
            "tags": []
          },
          "execution_count": 34
        }
      ]
    },
    {
      "cell_type": "markdown",
      "metadata": {
        "id": "na50bSAfb8YM",
        "colab_type": "text"
      },
      "source": [
        "Seems like we have some problematics tweets : "
      ]
    },
    {
      "cell_type": "code",
      "metadata": {
        "colab_type": "code",
        "outputId": "51e4061d-358b-450f-b026-41223f8d08b4",
        "id": "p4nplnMlSRkQ",
        "colab": {
          "base_uri": "https://localhost:8080/",
          "height": 317
        }
      },
      "source": [
        "Tweets['time'].value_counts().head().plot.bar()"
      ],
      "execution_count": 0,
      "outputs": [
        {
          "output_type": "execute_result",
          "data": {
            "text/plain": [
              "<matplotlib.axes._subplots.AxesSubplot at 0x7f6918694e80>"
            ]
          },
          "metadata": {
            "tags": []
          },
          "execution_count": 35
        },
        {
          "output_type": "display_data",
          "data": {
            "image/png": "[encoded data removed]",
            "text/plain": [
              "<Figure size 432x288 with 1 Axes>"
            ]
          },
          "metadata": {
            "tags": []
          }
        }
      ]
    },
    {
      "cell_type": "markdown",
      "metadata": {
        "id": "rxKxXygjccTx",
        "colab_type": "text"
      },
      "source": [
        "What are they?"
      ]
    },
    {
      "cell_type": "code",
      "metadata": {
        "id": "uhsdOrs3ceqd",
        "colab_type": "code",
        "outputId": "917eafeb-62cf-4101-e6a7-e2b4d0f7ddd4",
        "colab": {
          "base_uri": "https://localhost:8080/",
          "height": 597
        }
      },
      "source": [
        "Tweets[Tweets['time'] == '00:00:00']"
      ],
      "execution_count": 0,
      "outputs": [
        {
          "output_type": "execute_result",
          "data": {
            "text/html": [
              "<div>\n",
              "<style scoped>\n",
              "    .dataframe tbody tr th:only-of-type {\n",
              "        vertical-align: middle;\n",
              "    }\n",
              "\n",
              "    .dataframe tbody tr th {\n",
              "        vertical-align: top;\n",
              "    }\n",
              "\n",
              "    .dataframe thead th {\n",
              "        text-align: right;\n",
              "    }\n",
              "</style>\n",
              "<table border=\"1\" class=\"dataframe\">\n",
              "  <thead>\n",
              "    <tr style=\"text-align: right;\">\n",
              "      <th></th>\n",
              "      <th>user_id</th>\n",
              "      <th>tweet_id</th>\n",
              "      <th>tweet</th>\n",
              "      <th>date/time</th>\n",
              "      <th>date</th>\n",
              "      <th>time</th>\n",
              "      <th>sentiment</th>\n",
              "      <th>location</th>\n",
              "    </tr>\n",
              "  </thead>\n",
              "  <tbody>\n",
              "    <tr>\n",
              "      <th>7006</th>\n",
              "      <td>22398295.0</td>\n",
              "      <td>10172355714</td>\n",
              "      <td>\"From my vantage point, when it comes to money, women tend to lack confidence in their ability to do the (cont) http://tl.gd/entj8</td>\n",
              "      <td>2010-03-08</td>\n",
              "      <td>2010-03-08</td>\n",
              "      <td>00:00:00</td>\n",
              "      <td>{'neg': 0.086, 'neu': 0.706, 'pos': 0.208, 'compound': 0.5106}</td>\n",
              "      <td>Los Angeles</td>\n",
              "    </tr>\n",
              "    <tr>\n",
              "      <th>7007</th>\n",
              "      <td>22398295.0</td>\n",
              "      <td>10138019709</td>\n",
              "      <td>Hey Everyone, hope you are having a fabulous weekend... Call 213.446.5514 now for your chance to win $500 in Luxury Skin Care!</td>\n",
              "      <td>2010-03-07</td>\n",
              "      <td>2010-03-07</td>\n",
              "      <td>00:00:00</td>\n",
              "      <td>{'neg': 0.0, 'neu': 0.506, 'pos': 0.494, 'compound': 0.9392}</td>\n",
              "      <td>Los Angeles</td>\n",
              "    </tr>\n",
              "    <tr>\n",
              "      <th>7008</th>\n",
              "      <td>22398295.0</td>\n",
              "      <td>10137947080</td>\n",
              "      <td>@JuanaCombszvq I want legitimate followers not just any ole person, but Thank You</td>\n",
              "      <td>2010-03-07</td>\n",
              "      <td>2010-03-07</td>\n",
              "      <td>00:00:00</td>\n",
              "      <td>{'neg': 0.0, 'neu': 0.694, 'pos': 0.306, 'compound': 0.5267}</td>\n",
              "      <td>Los Angeles</td>\n",
              "    </tr>\n",
              "    <tr>\n",
              "      <th>7009</th>\n",
              "      <td>22398295.0</td>\n",
              "      <td>10137899192</td>\n",
              "      <td>@wiretapper Thanks for the #FF</td>\n",
              "      <td>2010-03-07</td>\n",
              "      <td>2010-03-07</td>\n",
              "      <td>00:00:00</td>\n",
              "      <td>{'neg': 0.0, 'neu': 0.58, 'pos': 0.42, 'compound': 0.4404}</td>\n",
              "      <td>Los Angeles</td>\n",
              "    </tr>\n",
              "    <tr>\n",
              "      <th>7010</th>\n",
              "      <td>22398295.0</td>\n",
              "      <td>10100641017</td>\n",
              "      <td>My Second Published Article http://bit.ly/b7mSMy</td>\n",
              "      <td>2010-03-06</td>\n",
              "      <td>2010-03-06</td>\n",
              "      <td>00:00:00</td>\n",
              "      <td>{'neg': 0.0, 'neu': 1.0, 'pos': 0.0, 'compound': 0.0}</td>\n",
              "      <td>Los Angeles</td>\n",
              "    </tr>\n",
              "    <tr>\n",
              "      <th>...</th>\n",
              "      <td>...</td>\n",
              "      <td>...</td>\n",
              "      <td>...</td>\n",
              "      <td>...</td>\n",
              "      <td>...</td>\n",
              "      <td>...</td>\n",
              "      <td>...</td>\n",
              "      <td>...</td>\n",
              "    </tr>\n",
              "    <tr>\n",
              "      <th>4944274</th>\n",
              "      <td>17416081.0</td>\n",
              "      <td>4115085688</td>\n",
              "      <td>I can see a family of Deer out for the foggy evening walk sitting here up in the hills...</td>\n",
              "      <td>2009-09-19</td>\n",
              "      <td>2009-09-19</td>\n",
              "      <td>00:00:00</td>\n",
              "      <td>{'neg': 0.0, 'neu': 1.0, 'pos': 0.0, 'compound': 0.0}</td>\n",
              "      <td>Los Angeles</td>\n",
              "    </tr>\n",
              "    <tr>\n",
              "      <th>4944275</th>\n",
              "      <td>17416081.0</td>\n",
              "      <td>4087615529</td>\n",
              "      <td>@lilychandler oo good tips thank you. how many juices did you have a day?</td>\n",
              "      <td>2009-09-18</td>\n",
              "      <td>2009-09-18</td>\n",
              "      <td>00:00:00</td>\n",
              "      <td>{'neg': 0.0, 'neu': 0.671, 'pos': 0.329, 'compound': 0.6597}</td>\n",
              "      <td>Los Angeles</td>\n",
              "    </tr>\n",
              "    <tr>\n",
              "      <th>4944276</th>\n",
              "      <td>17416081.0</td>\n",
              "      <td>4087599684</td>\n",
              "      <td>@calaverita no...just kinda like a seasonal change thing...not really fasting, just cleansing and jump starting...</td>\n",
              "      <td>2009-09-18</td>\n",
              "      <td>2009-09-18</td>\n",
              "      <td>00:00:00</td>\n",
              "      <td>{'neg': 0.0, 'neu': 0.855, 'pos': 0.145, 'compound': 0.2975}</td>\n",
              "      <td>Los Angeles</td>\n",
              "    </tr>\n",
              "    <tr>\n",
              "      <th>4944277</th>\n",
              "      <td>17416081.0</td>\n",
              "      <td>4083110187</td>\n",
              "      <td>Correction, nate n al...um not sure where i put that E</td>\n",
              "      <td>2009-09-18</td>\n",
              "      <td>2009-09-18</td>\n",
              "      <td>00:00:00</td>\n",
              "      <td>{'neg': 0.219, 'neu': 0.781, 'pos': 0.0, 'compound': -0.2411}</td>\n",
              "      <td>Los Angeles</td>\n",
              "    </tr>\n",
              "    <tr>\n",
              "      <th>4944278</th>\n",
              "      <td>17416081.0</td>\n",
              "      <td>4082853778</td>\n",
              "      <td>Wish there was more time in the day to devote to this...</td>\n",
              "      <td>2009-09-18</td>\n",
              "      <td>2009-09-18</td>\n",
              "      <td>00:00:00</td>\n",
              "      <td>{'neg': 0.0, 'neu': 0.662, 'pos': 0.338, 'compound': 0.6249}</td>\n",
              "      <td>Los Angeles</td>\n",
              "    </tr>\n",
              "  </tbody>\n",
              "</table>\n",
              "<p>86463 rows × 8 columns</p>\n",
              "</div>"
            ],
            "text/plain": [
              "            user_id  ...     location\n",
              "7006     22398295.0  ...  Los Angeles\n",
              "7007     22398295.0  ...  Los Angeles\n",
              "7008     22398295.0  ...  Los Angeles\n",
              "7009     22398295.0  ...  Los Angeles\n",
              "7010     22398295.0  ...  Los Angeles\n",
              "...             ...  ...          ...\n",
              "4944274  17416081.0  ...  Los Angeles\n",
              "4944275  17416081.0  ...  Los Angeles\n",
              "4944276  17416081.0  ...  Los Angeles\n",
              "4944277  17416081.0  ...  Los Angeles\n",
              "4944278  17416081.0  ...  Los Angeles\n",
              "\n",
              "[86463 rows x 8 columns]"
            ]
          },
          "metadata": {
            "tags": []
          },
          "execution_count": 38
        }
      ]
    },
    {
      "cell_type": "markdown",
      "metadata": {
        "id": "CuwfTvRGarsh",
        "colab_type": "text"
      },
      "source": [
        "Bot for most of them. We get rid of the probleme by droping post from 00:00:00 "
      ]
    },
    {
      "cell_type": "code",
      "metadata": {
        "id": "qHohzYnsc0lt",
        "colab_type": "code",
        "colab": {}
      },
      "source": [
        "Tweets = Tweets[Tweets['time'] != '00:00:00']"
      ],
      "execution_count": 0,
      "outputs": []
    },
    {
      "cell_type": "markdown",
      "metadata": {
        "id": "UmuLawPHiwxb",
        "colab_type": "text"
      },
      "source": [
        "Filter to keep only tweet from 2009-04-01 to 2010-03-30"
      ]
    },
    {
      "cell_type": "code",
      "metadata": {
        "id": "4PrpbQoHjRtX",
        "colab_type": "code",
        "colab": {}
      },
      "source": [
        "Tweets =Tweets[(Tweets['date/time'] >= '2009-04-01') & (Tweets['date/time'] <= '2010-03-30')]"
      ],
      "execution_count": 0,
      "outputs": []
    },
    {
      "cell_type": "markdown",
      "metadata": {
        "id": "9RhPDtDJR73T",
        "colab_type": "text"
      },
      "source": [
        "We merge tweets en weather"
      ]
    },
    {
      "cell_type": "markdown",
      "metadata": {
        "id": "z7NTAEIE-Jso",
        "colab_type": "text"
      },
      "source": [
        "First with hourly weather"
      ]
    },
    {
      "cell_type": "code",
      "metadata": {
        "id": "O6OLMgquTUiK",
        "colab_type": "code",
        "colab": {}
      },
      "source": [
        "Tweets=pd.read_pickle(tweet_datapath+'tweet+loc+sentiment-weather.pickle')\n",
        "weather_hourly=pd.read_pickle(tweet_datapath+'meteo_csv/Weather_hourly')\n",
        "dttweet=pd.to_datetime(Tweets['date/time'], utc= True)\n",
        "Tweets['date/time'] = dttweet.apply(lambda dt:dt.replace(minute=0,second=0))\n",
        "weather_hourly['date/time']=pd.to_datetime(weather_hourly['date/time'], utc= True)\n",
        "tweet_hourly_weather = pd.merge(Tweets, weather_hourly,  how='left', left_on=['date/time','location'], right_on = ['date/time','location'])\n",
        "tweet_daily_weather['date/time'] = pd.to_datetime(tweet_daily_weather['date'] +'/'+ tweet_daily_weather['time'])"
      ],
      "execution_count": 0,
      "outputs": []
    },
    {
      "cell_type": "markdown",
      "metadata": {
        "id": "JoBKwBEc-OBB",
        "colab_type": "text"
      },
      "source": [
        "Then with daily weather"
      ]
    },
    {
      "cell_type": "code",
      "metadata": {
        "id": "K73W3b80TCrB",
        "colab_type": "code",
        "colab": {}
      },
      "source": [
        "Tweets=pd.read_pickle(tweet_datapath+'tweet+loc+sentiment-weather.pickle')\n",
        "weather_daily=pd.read_pickle(tweet_datapath+'meteo_csv/Weather_daily')\n",
        "dttweet=pd.to_datetime(Tweets['date/time'], utc= True)\n",
        "Tweets['date/time'] = dttweet.apply(lambda dt:dt.replace(hour=0,minute=0,second=0))\n",
        "weather_daily['date/time']=pd.to_datetime(weather_daily['date/time'], utc= True)\n",
        "tweet_daily_weather = pd.merge(Tweets, weather_daily,  how='left', left_on=['date/time','location'], right_on = ['date/time','location'])\n",
        "tweet_daily_weather['date/time'] = pd.to_datetime(tweet_daily_weather['date'] +'/'+ tweet_daily_weather['time'])"
      ],
      "execution_count": 0,
      "outputs": []
    },
    {
      "cell_type": "code",
      "metadata": {
        "id": "1b2LlTuiZGnZ",
        "colab_type": "code",
        "colab": {}
      },
      "source": [
        "tweet_hourly_weather.to_pickle(tweet_datapath+'tweet+loc+sentiment+hourly_weather.pickle')\n",
        "tweet_daily_weather.to_pickle(tweet_datapath+'tweet+loc+sentiment+daily_weather.pickle')"
      ],
      "execution_count": 0,
      "outputs": []
    },
    {
      "cell_type": "markdown",
      "metadata": {
        "id": "IJF35SHDCT5q",
        "colab_type": "text"
      },
      "source": [
        "## Data Analysis"
      ]
    },
    {
      "cell_type": "markdown",
      "metadata": {
        "id": "NE1CNla7XBF9",
        "colab_type": "text"
      },
      "source": [
        "#### Aggregate data to allow a statistical analysis"
      ]
    },
    {
      "cell_type": "code",
      "metadata": {
        "id": "CMf5RV2WCSZ1",
        "colab_type": "code",
        "colab": {}
      },
      "source": [
        "Tweets=pd.read_pickle(tweet_datapath+\"tweet+loc+sentiment-weather.pickle\")"
      ],
      "execution_count": 0,
      "outputs": []
    },
    {
      "cell_type": "code",
      "metadata": {
        "id": "HB9B5_tCDC9l",
        "colab_type": "code",
        "colab": {}
      },
      "source": [
        "def set_compound(x):\n",
        "  if(x>0.05):\n",
        "    x=1\n",
        "  elif(x<-0.05):\n",
        "    x=-1\n",
        "  else : \n",
        "    x=0\n",
        "  return int(x) \n",
        "\n",
        "def average_sentiment_daily(df_sentiment):\n",
        "    df = df_sentiment[df_sentiment['date/time'].apply(lambda datetime : datetime.hour>5)].copy()\n",
        "    df['date/time']=df['date/time'].apply(lambda time : time.replace( hour=0,minute=0, second=0, microsecond=0))\n",
        "    df_avg = pd.DataFrame(columns=df.columns)\n",
        "    for ind_c,city in enumerate(df_sentiment['location'].unique()):\n",
        "      for ind,time in enumerate(df['date/time'].unique()):\n",
        "            \n",
        "            df_it = df[(df['date/time'] == time) & (df['location'] == city)]\n",
        "            df_avg.loc[ind+365*ind_c,'date/time']= time\n",
        "            df_avg.loc[ind+365*ind_c,'location']= city\n",
        "            if(df_it.shape[0]!=0):\n",
        "              df_avg.loc[ind+ind_c*365,'%pos']= df_it[df_it['compound'] > 0].shape[0]/df_it.shape[0]#freq[1] # positive percent per day\n",
        "            else:\n",
        "              df_avg.loc[ind+ind_c*365,'%pos']=0\n",
        "            if(df_it.shape[0]!=0): \n",
        "              df_avg.loc[ind+ind_c*365,'%neg']= df_it[df_it['compound'] < 0].shape[0]/df_it.shape[0]#freq[-1] # negative percent per day\n",
        "            else: \n",
        "              df_avg.loc[ind+ind_c*365,'%neg']=0\n",
        "            df_avg.loc[ind+ind_c*365,'n_tweet']= df_it.shape[0]\n",
        "            df_avg.index = range(df_avg.shape[0])\n",
        "    return df_avg.drop(columns=[\"user_id\",\"tweet\",\"date\",\"time\",\"tweet_id\",\"sentiment\",'compound'])"
      ],
      "execution_count": 0,
      "outputs": []
    },
    {
      "cell_type": "code",
      "metadata": {
        "id": "u-GdlW6gDJIs",
        "colab_type": "code",
        "colab": {}
      },
      "source": [
        "Tweets['compound']=Tweets.sentiment.map(lambda x : set_compound(x['compound']))"
      ],
      "execution_count": 0,
      "outputs": []
    },
    {
      "cell_type": "code",
      "metadata": {
        "id": "e-HILUhqQbrY",
        "colab_type": "code",
        "outputId": "38035927-bfdb-40ba-c842-0697542d8643",
        "colab": {
          "base_uri": "https://localhost:8080/",
          "height": 669
        }
      },
      "source": [
        "Tweets.sample(20)"
      ],
      "execution_count": 0,
      "outputs": [
        {
          "output_type": "execute_result",
          "data": {
            "text/html": [
              "<div>\n",
              "<style scoped>\n",
              "    .dataframe tbody tr th:only-of-type {\n",
              "        vertical-align: middle;\n",
              "    }\n",
              "\n",
              "    .dataframe tbody tr th {\n",
              "        vertical-align: top;\n",
              "    }\n",
              "\n",
              "    .dataframe thead th {\n",
              "        text-align: right;\n",
              "    }\n",
              "</style>\n",
              "<table border=\"1\" class=\"dataframe\">\n",
              "  <thead>\n",
              "    <tr style=\"text-align: right;\">\n",
              "      <th></th>\n",
              "      <th>user_id</th>\n",
              "      <th>tweet_id</th>\n",
              "      <th>tweet</th>\n",
              "      <th>date/time</th>\n",
              "      <th>date</th>\n",
              "      <th>time</th>\n",
              "      <th>sentiment</th>\n",
              "      <th>location</th>\n",
              "      <th>compound</th>\n",
              "    </tr>\n",
              "  </thead>\n",
              "  <tbody>\n",
              "    <tr>\n",
              "      <th>3346898</th>\n",
              "      <td>29242717.0</td>\n",
              "      <td>8750399404</td>\n",
              "      <td>@ROBBLOCKROYAL what's good my brother how's things?  http://myloc.me/3zwJD</td>\n",
              "      <td>2010-02-06 22:00:00</td>\n",
              "      <td>2010-02-06</td>\n",
              "      <td>22:04:07</td>\n",
              "      <td>{'neg': 0.0, 'neu': 0.707, 'pos': 0.293, 'compound': 0.4404}</td>\n",
              "      <td>New York</td>\n",
              "      <td>1</td>\n",
              "    </tr>\n",
              "    <tr>\n",
              "      <th>729748</th>\n",
              "      <td>66446500.0</td>\n",
              "      <td>9628907071</td>\n",
              "      <td>@MackieCharles I'm trying man...*</td>\n",
              "      <td>2010-02-25 08:00:00</td>\n",
              "      <td>2010-02-25</td>\n",
              "      <td>08:59:41</td>\n",
              "      <td>{'neg': 0.0, 'neu': 1.0, 'pos': 0.0, 'compound': 0.0}</td>\n",
              "      <td>New York</td>\n",
              "      <td>0</td>\n",
              "    </tr>\n",
              "    <tr>\n",
              "      <th>283871</th>\n",
              "      <td>17285605.0</td>\n",
              "      <td>7628733261</td>\n",
              "      <td>@WeArtisticWings My sister did that too, even tho she wanted to see the 2D.</td>\n",
              "      <td>2010-01-11 07:00:00</td>\n",
              "      <td>2010-01-11</td>\n",
              "      <td>07:08:41</td>\n",
              "      <td>{'neg': 0.0, 'neu': 1.0, 'pos': 0.0, 'compound': 0.0}</td>\n",
              "      <td>New York</td>\n",
              "      <td>0</td>\n",
              "    </tr>\n",
              "    <tr>\n",
              "      <th>3461072</th>\n",
              "      <td>24639005.0</td>\n",
              "      <td>7877674455</td>\n",
              "      <td>would everybody be shocked if jets come out with the victory?</td>\n",
              "      <td>2010-01-17 15:00:00</td>\n",
              "      <td>2010-01-17</td>\n",
              "      <td>15:36:09</td>\n",
              "      <td>{'neg': 0.187, 'neu': 0.813, 'pos': 0.0, 'compound': -0.3182}</td>\n",
              "      <td>New York</td>\n",
              "      <td>-1</td>\n",
              "    </tr>\n",
              "    <tr>\n",
              "      <th>3206737</th>\n",
              "      <td>23376992.0</td>\n",
              "      <td>10324977110</td>\n",
              "      <td>@MiyaBailey I would love to create a sketch for you</td>\n",
              "      <td>2010-03-11 08:00:00</td>\n",
              "      <td>2010-03-11</td>\n",
              "      <td>08:47:54</td>\n",
              "      <td>{'neg': 0.0, 'neu': 0.488, 'pos': 0.512, 'compound': 0.743}</td>\n",
              "      <td>Atlanta</td>\n",
              "      <td>1</td>\n",
              "    </tr>\n",
              "    <tr>\n",
              "      <th>2076137</th>\n",
              "      <td>44567855.0</td>\n",
              "      <td>9863927162</td>\n",
              "      <td>@ClintRunNYC. Real niggas fuck with me and I don't give a fuck who don't! Welcome to the Mob Young Clint!!</td>\n",
              "      <td>2010-03-02 00:00:00</td>\n",
              "      <td>2010-03-02</td>\n",
              "      <td>00:48:52</td>\n",
              "      <td>{'neg': 0.477, 'neu': 0.523, 'pos': 0.0, 'compound': -0.9145}</td>\n",
              "      <td>New York</td>\n",
              "      <td>-1</td>\n",
              "    </tr>\n",
              "    <tr>\n",
              "      <th>3869307</th>\n",
              "      <td>26093942.0</td>\n",
              "      <td>10049369891</td>\n",
              "      <td>Reh with UDA!! Love my uda fam :-)</td>\n",
              "      <td>2010-03-05 18:00:00</td>\n",
              "      <td>2010-03-05</td>\n",
              "      <td>18:15:14</td>\n",
              "      <td>{'neg': 0.0, 'neu': 0.459, 'pos': 0.541, 'compound': 0.7955}</td>\n",
              "      <td>New York</td>\n",
              "      <td>1</td>\n",
              "    </tr>\n",
              "    <tr>\n",
              "      <th>3950629</th>\n",
              "      <td>66500943.0</td>\n",
              "      <td>7882401662</td>\n",
              "      <td>Oowww touchdown!!!</td>\n",
              "      <td>2010-01-17 18:00:00</td>\n",
              "      <td>2010-01-17</td>\n",
              "      <td>18:07:29</td>\n",
              "      <td>{'neg': 0.0, 'neu': 1.0, 'pos': 0.0, 'compound': 0.0}</td>\n",
              "      <td>New York</td>\n",
              "      <td>0</td>\n",
              "    </tr>\n",
              "    <tr>\n",
              "      <th>2646234</th>\n",
              "      <td>45969605.0</td>\n",
              "      <td>9596250671</td>\n",
              "      <td>Shawty Lo doing an interview @gyantunplugged http://tweetphoto.com/12398352</td>\n",
              "      <td>2010-02-24 16:00:00</td>\n",
              "      <td>2010-02-24</td>\n",
              "      <td>16:39:32</td>\n",
              "      <td>{'neg': 0.0, 'neu': 1.0, 'pos': 0.0, 'compound': 0.0}</td>\n",
              "      <td>Atlanta</td>\n",
              "      <td>0</td>\n",
              "    </tr>\n",
              "    <tr>\n",
              "      <th>34659</th>\n",
              "      <td>27787319.0</td>\n",
              "      <td>5729843247</td>\n",
              "      <td>@gorgeousSOrare u got me beggin on twitter smh.....</td>\n",
              "      <td>2009-11-14 23:00:00</td>\n",
              "      <td>2009-11-14</td>\n",
              "      <td>23:52:40</td>\n",
              "      <td>{'neg': 0.0, 'neu': 1.0, 'pos': 0.0, 'compound': 0.0}</td>\n",
              "      <td>New York</td>\n",
              "      <td>0</td>\n",
              "    </tr>\n",
              "    <tr>\n",
              "      <th>5002402</th>\n",
              "      <td>47205031.0</td>\n",
              "      <td>5592858921</td>\n",
              "      <td>@imjustmoe I'm on where?</td>\n",
              "      <td>2009-11-10 10:00:00</td>\n",
              "      <td>2009-11-10</td>\n",
              "      <td>10:38:50</td>\n",
              "      <td>{'neg': 0.0, 'neu': 1.0, 'pos': 0.0, 'compound': 0.0}</td>\n",
              "      <td>New York</td>\n",
              "      <td>0</td>\n",
              "    </tr>\n",
              "    <tr>\n",
              "      <th>143587</th>\n",
              "      <td>19118789.0</td>\n",
              "      <td>6993986561</td>\n",
              "      <td>#wecantdate if you feel the need to name drop...I do not care who you know...I want to get to know you and find out if you know Jesus!</td>\n",
              "      <td>2009-12-24 02:00:00</td>\n",
              "      <td>2009-12-24</td>\n",
              "      <td>02:21:06</td>\n",
              "      <td>{'neg': 0.097, 'neu': 0.86, 'pos': 0.043, 'compound': -0.3859}</td>\n",
              "      <td>Atlanta</td>\n",
              "      <td>-1</td>\n",
              "    </tr>\n",
              "    <tr>\n",
              "      <th>1497147</th>\n",
              "      <td>38537576.0</td>\n",
              "      <td>6751168978</td>\n",
              "      <td>RT: @Priceless773 RT @demi_taylaflare:  C-L-A-R-K-A-T-L-A-N-T-A U, University C-A-...U...is located in #theAUC</td>\n",
              "      <td>2009-12-16 20:00:00</td>\n",
              "      <td>2009-12-16</td>\n",
              "      <td>20:31:51</td>\n",
              "      <td>{'neg': 0.0, 'neu': 1.0, 'pos': 0.0, 'compound': 0.0}</td>\n",
              "      <td>Atlanta</td>\n",
              "      <td>0</td>\n",
              "    </tr>\n",
              "    <tr>\n",
              "      <th>784591</th>\n",
              "      <td>81110274.0</td>\n",
              "      <td>9308612367</td>\n",
              "      <td>This guy @AV_thewave jokes is whack times 1000 do u need sum time to gather ur thoughts</td>\n",
              "      <td>2010-02-18 18:00:00</td>\n",
              "      <td>2010-02-18</td>\n",
              "      <td>18:05:46</td>\n",
              "      <td>{'neg': 0.0, 'neu': 0.882, 'pos': 0.118, 'compound': 0.25}</td>\n",
              "      <td>New York</td>\n",
              "      <td>1</td>\n",
              "    </tr>\n",
              "    <tr>\n",
              "      <th>3311242</th>\n",
              "      <td>31216934.0</td>\n",
              "      <td>8368385439</td>\n",
              "      <td>That's mean lol RT @Laura_Charles: Tgif!!! I'm suppose to go out later w a old friend from jhs... #CURVE... He's c (cont) http://tl.gd/5ta15</td>\n",
              "      <td>2010-01-29 07:00:00</td>\n",
              "      <td>2010-01-29</td>\n",
              "      <td>07:58:35</td>\n",
              "      <td>{'neg': 0.0, 'neu': 0.626, 'pos': 0.374, 'compound': 0.88}</td>\n",
              "      <td>New York</td>\n",
              "      <td>1</td>\n",
              "    </tr>\n",
              "    <tr>\n",
              "      <th>1146105</th>\n",
              "      <td>23390023.0</td>\n",
              "      <td>2288097705</td>\n",
              "      <td>@OfficialRihanna yes yes yes</td>\n",
              "      <td>2009-06-22 20:00:00</td>\n",
              "      <td>2009-06-22</td>\n",
              "      <td>20:42:56</td>\n",
              "      <td>{'neg': 0.0, 'neu': 0.11, 'pos': 0.89, 'compound': 0.7964}</td>\n",
              "      <td>New York</td>\n",
              "      <td>1</td>\n",
              "    </tr>\n",
              "    <tr>\n",
              "      <th>4099016</th>\n",
              "      <td>33601974.0</td>\n",
              "      <td>9403492046</td>\n",
              "      <td>@ladyk417 hey mama,,,,</td>\n",
              "      <td>2010-02-20 17:00:00</td>\n",
              "      <td>2010-02-20</td>\n",
              "      <td>17:25:52</td>\n",
              "      <td>{'neg': 0.0, 'neu': 1.0, 'pos': 0.0, 'compound': 0.0}</td>\n",
              "      <td>New York</td>\n",
              "      <td>0</td>\n",
              "    </tr>\n",
              "    <tr>\n",
              "      <th>4199757</th>\n",
              "      <td>49486562.0</td>\n",
              "      <td>10243321289</td>\n",
              "      <td>@DRzCHiNiTa thanks :)</td>\n",
              "      <td>2010-03-09 17:00:00</td>\n",
              "      <td>2010-03-09</td>\n",
              "      <td>17:26:21</td>\n",
              "      <td>{'neg': 0.0, 'neu': 0.145, 'pos': 0.855, 'compound': 0.7096}</td>\n",
              "      <td>New York</td>\n",
              "      <td>1</td>\n",
              "    </tr>\n",
              "    <tr>\n",
              "      <th>3566343</th>\n",
              "      <td>28068128.0</td>\n",
              "      <td>9605132035</td>\n",
              "      <td>Man ah gyallis, Every queen to a king.</td>\n",
              "      <td>2010-02-24 20:00:00</td>\n",
              "      <td>2010-02-24</td>\n",
              "      <td>20:12:03</td>\n",
              "      <td>{'neg': 0.0, 'neu': 1.0, 'pos': 0.0, 'compound': 0.0}</td>\n",
              "      <td>New York</td>\n",
              "      <td>0</td>\n",
              "    </tr>\n",
              "    <tr>\n",
              "      <th>1675015</th>\n",
              "      <td>40030659.0</td>\n",
              "      <td>9344308252</td>\n",
              "      <td>@DaveEmoney CNN had it listed that way. LMAO</td>\n",
              "      <td>2010-02-19 11:00:00</td>\n",
              "      <td>2010-02-19</td>\n",
              "      <td>11:24:24</td>\n",
              "      <td>{'neg': 0.0, 'neu': 0.602, 'pos': 0.398, 'compound': 0.6841}</td>\n",
              "      <td>New York</td>\n",
              "      <td>1</td>\n",
              "    </tr>\n",
              "  </tbody>\n",
              "</table>\n",
              "</div>"
            ],
            "text/plain": [
              "            user_id     tweet_id  ...  location compound\n",
              "3346898  29242717.0  8750399404   ...  New York  1      \n",
              "729748   66446500.0  9628907071   ...  New York  0      \n",
              "283871   17285605.0  7628733261   ...  New York  0      \n",
              "3461072  24639005.0  7877674455   ...  New York -1      \n",
              "3206737  23376992.0  10324977110  ...  Atlanta   1      \n",
              "2076137  44567855.0  9863927162   ...  New York -1      \n",
              "3869307  26093942.0  10049369891  ...  New York  1      \n",
              "3950629  66500943.0  7882401662   ...  New York  0      \n",
              "2646234  45969605.0  9596250671   ...  Atlanta   0      \n",
              "34659    27787319.0  5729843247   ...  New York  0      \n",
              "5002402  47205031.0  5592858921   ...  New York  0      \n",
              "143587   19118789.0  6993986561   ...  Atlanta  -1      \n",
              "1497147  38537576.0  6751168978   ...  Atlanta   0      \n",
              "784591   81110274.0  9308612367   ...  New York  1      \n",
              "3311242  31216934.0  8368385439   ...  New York  1      \n",
              "1146105  23390023.0  2288097705   ...  New York  1      \n",
              "4099016  33601974.0  9403492046   ...  New York  0      \n",
              "4199757  49486562.0  10243321289  ...  New York  1      \n",
              "3566343  28068128.0  9605132035   ...  New York  0      \n",
              "1675015  40030659.0  9344308252   ...  New York  1      \n",
              "\n",
              "[20 rows x 9 columns]"
            ]
          },
          "metadata": {
            "tags": []
          },
          "execution_count": 15
        }
      ]
    },
    {
      "cell_type": "code",
      "metadata": {
        "id": "eCaf88-dLcxt",
        "colab_type": "code",
        "colab": {}
      },
      "source": [
        "daily_score_tweets=average_sentiment_daily(Tweets)"
      ],
      "execution_count": 0,
      "outputs": []
    },
    {
      "cell_type": "code",
      "metadata": {
        "id": "HjNXaIH8Da2N",
        "colab_type": "code",
        "colab": {}
      },
      "source": [
        "daily_score_tweets = pd.read_pickle(\"/content/drive/Shared drives/ADA/Data_Tweets/data for stats/pos_neg_day\")"
      ],
      "execution_count": 0,
      "outputs": []
    },
    {
      "cell_type": "markdown",
      "metadata": {
        "id": "o6jwG1lkNNAP",
        "colab_type": "text"
      },
      "source": [
        ""
      ]
    },
    {
      "cell_type": "code",
      "metadata": {
        "id": "CcXQf7QVDd_d",
        "colab_type": "code",
        "outputId": "7c5fc2e1-2f90-4e06-e791-1b0223d85400",
        "colab": {
          "base_uri": "https://localhost:8080/",
          "height": 547
        }
      },
      "source": [
        "def plot_sentiment_by_weather(df,sentiment='%neg',weather=None)\n",
        "if weather:\n",
        "  no_city=daily_score_tweets[weather].drop(columns=\"location\")\n",
        "else :\n",
        "  no_city=daily_score_tweets.drop(columns=\"location\")\n",
        "c=no_city.groupby(by=\"date/time\").mean()\n",
        "c[\"diff\"]=c[sentiment].diff()\n",
        "\n",
        "c=c.dropna()\n",
        "c[\"dpos\"]=c.dpos.map(lambda x: x*100)\n",
        "c=c[(c.index.month < 4)&(c.index.day < 25) & (c.index.year> 2009) ]\n",
        "c.dpos.plot.kde()\n",
        "c.describe()"
      ],
      "execution_count": 0,
      "outputs": [
        {
          "output_type": "execute_result",
          "data": {
            "text/html": [
              "<div>\n",
              "<style scoped>\n",
              "    .dataframe tbody tr th:only-of-type {\n",
              "        vertical-align: middle;\n",
              "    }\n",
              "\n",
              "    .dataframe tbody tr th {\n",
              "        vertical-align: top;\n",
              "    }\n",
              "\n",
              "    .dataframe thead th {\n",
              "        text-align: right;\n",
              "    }\n",
              "</style>\n",
              "<table border=\"1\" class=\"dataframe\">\n",
              "  <thead>\n",
              "    <tr style=\"text-align: right;\">\n",
              "      <th></th>\n",
              "      <th>%pos</th>\n",
              "      <th>%neg</th>\n",
              "      <th>n_tweet</th>\n",
              "      <th>dpos</th>\n",
              "    </tr>\n",
              "  </thead>\n",
              "  <tbody>\n",
              "    <tr>\n",
              "      <th>count</th>\n",
              "      <td>65.000000</td>\n",
              "      <td>65.000000</td>\n",
              "      <td>65.000000</td>\n",
              "      <td>65.000000</td>\n",
              "    </tr>\n",
              "    <tr>\n",
              "      <th>mean</th>\n",
              "      <td>0.445771</td>\n",
              "      <td>0.207771</td>\n",
              "      <td>1617.607692</td>\n",
              "      <td>-0.161259</td>\n",
              "    </tr>\n",
              "    <tr>\n",
              "      <th>std</th>\n",
              "      <td>0.018351</td>\n",
              "      <td>0.017005</td>\n",
              "      <td>681.478634</td>\n",
              "      <td>1.936911</td>\n",
              "    </tr>\n",
              "    <tr>\n",
              "      <th>min</th>\n",
              "      <td>0.375000</td>\n",
              "      <td>0.125000</td>\n",
              "      <td>0.750000</td>\n",
              "      <td>-3.905118</td>\n",
              "    </tr>\n",
              "    <tr>\n",
              "      <th>25%</th>\n",
              "      <td>0.435190</td>\n",
              "      <td>0.198830</td>\n",
              "      <td>1053.250000</td>\n",
              "      <td>-1.551524</td>\n",
              "    </tr>\n",
              "    <tr>\n",
              "      <th>50%</th>\n",
              "      <td>0.445051</td>\n",
              "      <td>0.207922</td>\n",
              "      <td>1576.500000</td>\n",
              "      <td>-0.046422</td>\n",
              "    </tr>\n",
              "    <tr>\n",
              "      <th>75%</th>\n",
              "      <td>0.456115</td>\n",
              "      <td>0.218552</td>\n",
              "      <td>2154.000000</td>\n",
              "      <td>1.173070</td>\n",
              "    </tr>\n",
              "    <tr>\n",
              "      <th>max</th>\n",
              "      <td>0.490890</td>\n",
              "      <td>0.239832</td>\n",
              "      <td>2775.500000</td>\n",
              "      <td>5.683090</td>\n",
              "    </tr>\n",
              "  </tbody>\n",
              "</table>\n",
              "</div>"
            ],
            "text/plain": [
              "            %pos       %neg      n_tweet       dpos\n",
              "count  65.000000  65.000000  65.000000    65.000000\n",
              "mean   0.445771   0.207771   1617.607692 -0.161259 \n",
              "std    0.018351   0.017005   681.478634   1.936911 \n",
              "min    0.375000   0.125000   0.750000    -3.905118 \n",
              "25%    0.435190   0.198830   1053.250000 -1.551524 \n",
              "50%    0.445051   0.207922   1576.500000 -0.046422 \n",
              "75%    0.456115   0.218552   2154.000000  1.173070 \n",
              "max    0.490890   0.239832   2775.500000  5.683090 "
            ]
          },
          "metadata": {
            "tags": []
          },
          "execution_count": 67
        },
        {
          "output_type": "display_data",
          "data": {
            "image/png": "[encoded data removed]",
            "text/plain": [
              "<Figure size 432x288 with 1 Axes>"
            ]
          },
          "metadata": {
            "tags": []
          }
        }
      ]
    },
    {
      "cell_type": "code",
      "metadata": {
        "id": "zrcqRXIbW4Uo",
        "colab_type": "code",
        "colab": {}
      },
      "source": [
        "path_data = '/content/drive/Shared drives/ADA/Data_Tweets'\n",
        "fig_size_ = [12,8]"
      ],
      "execution_count": 0,
      "outputs": []
    },
    {
      "cell_type": "markdown",
      "metadata": {
        "id": "P5va-A2dXbKe",
        "colab_type": "text"
      },
      "source": [
        "#### First analysis of the dataset"
      ]
    },
    {
      "cell_type": "code",
      "metadata": {
        "id": "5G4C4yxFXhpq",
        "colab_type": "code",
        "colab": {}
      },
      "source": [
        "path_data = '/content/drive/Shared drives/ADA/Data_Tweets'\n",
        "fig_size_ = [12,8]"
      ],
      "execution_count": 0,
      "outputs": []
    },
    {
      "cell_type": "code",
      "metadata": {
        "id": "oE-_LWOmXl5X",
        "colab_type": "code",
        "outputId": "e862f1f9-f086-4077-b17a-070742a04a72",
        "colab": {
          "base_uri": "https://localhost:8080/",
          "height": 235
        }
      },
      "source": [
        "df_daily = pd.read_pickle('/content/drive/Shared drives/ADA/Data_Tweets/data for stats/LocDatePosNegWeatherClean')\n",
        "df_daily.head()"
      ],
      "execution_count": 0,
      "outputs": [
        {
          "output_type": "execute_result",
          "data": {
            "text/html": [
              "<div>\n",
              "<style scoped>\n",
              "    .dataframe tbody tr th:only-of-type {\n",
              "        vertical-align: middle;\n",
              "    }\n",
              "\n",
              "    .dataframe tbody tr th {\n",
              "        vertical-align: top;\n",
              "    }\n",
              "\n",
              "    .dataframe thead th {\n",
              "        text-align: right;\n",
              "    }\n",
              "</style>\n",
              "<table border=\"1\" class=\"dataframe\">\n",
              "  <thead>\n",
              "    <tr style=\"text-align: right;\">\n",
              "      <th></th>\n",
              "      <th></th>\n",
              "      <th>%pos</th>\n",
              "      <th>%neg</th>\n",
              "      <th>weather</th>\n",
              "      <th>n_tweet</th>\n",
              "    </tr>\n",
              "    <tr>\n",
              "      <th>location</th>\n",
              "      <th>date/time</th>\n",
              "      <th></th>\n",
              "      <th></th>\n",
              "      <th></th>\n",
              "      <th></th>\n",
              "    </tr>\n",
              "  </thead>\n",
              "  <tbody>\n",
              "    <tr>\n",
              "      <th rowspan=\"5\" valign=\"top\">Atlanta</th>\n",
              "      <th>2009-04-01</th>\n",
              "      <td>0.800000</td>\n",
              "      <td>0.200000</td>\n",
              "      <td>1</td>\n",
              "      <td>5.0</td>\n",
              "    </tr>\n",
              "    <tr>\n",
              "      <th>2009-04-02</th>\n",
              "      <td>0.428571</td>\n",
              "      <td>0.428571</td>\n",
              "      <td>1</td>\n",
              "      <td>7.0</td>\n",
              "    </tr>\n",
              "    <tr>\n",
              "      <th>2009-04-03</th>\n",
              "      <td>0.833333</td>\n",
              "      <td>0.000000</td>\n",
              "      <td>2</td>\n",
              "      <td>6.0</td>\n",
              "    </tr>\n",
              "    <tr>\n",
              "      <th>2009-04-04</th>\n",
              "      <td>0.000000</td>\n",
              "      <td>1.000000</td>\n",
              "      <td>2</td>\n",
              "      <td>1.0</td>\n",
              "    </tr>\n",
              "    <tr>\n",
              "      <th>2009-04-05</th>\n",
              "      <td>1.000000</td>\n",
              "      <td>0.000000</td>\n",
              "      <td>2</td>\n",
              "      <td>1.0</td>\n",
              "    </tr>\n",
              "  </tbody>\n",
              "</table>\n",
              "</div>"
            ],
            "text/plain": [
              "                         %pos      %neg weather  n_tweet\n",
              "location date/time                                      \n",
              "Atlanta  2009-04-01  0.800000  0.200000  1       5.0    \n",
              "         2009-04-02  0.428571  0.428571  1       7.0    \n",
              "         2009-04-03  0.833333  0.000000  2       6.0    \n",
              "         2009-04-04  0.000000  1.000000  2       1.0    \n",
              "         2009-04-05  1.000000  0.000000  2       1.0    "
            ]
          },
          "metadata": {
            "tags": []
          },
          "execution_count": 22
        }
      ]
    },
    {
      "cell_type": "code",
      "metadata": {
        "id": "MsiA1ttaXou2",
        "colab_type": "code",
        "outputId": "eb2664a3-c97f-4ed9-9116-3f9cbe493a86",
        "colab": {
          "base_uri": "https://localhost:8080/",
          "height": 473
        }
      },
      "source": [
        "df = df_daily.reset_index()\n",
        "df = df.set_index('location')\n",
        "fig, ax = plt.subplots()\n",
        "for label, grp in df.groupby('location'):\n",
        "    grp.plot(x ='date/time', y = 'n_tweet', ax = ax, label = label,figsize=fig_size_)"
      ],
      "execution_count": 0,
      "outputs": [
        {
          "output_type": "display_data",
          "data": {
            "image/png": "[encoded data removed]",
            "text/plain": [
              "<Figure size 864x576 with 1 Axes>"
            ]
          },
          "metadata": {
            "tags": []
          }
        }
      ]
    },
    {
      "cell_type": "markdown",
      "metadata": {
        "id": "2FGPuXs3YD69",
        "colab_type": "text"
      },
      "source": [
        "This graph allow us to see the numbe of tweets as a function of time. We notice that the number of tweets are more frequent when we come closer to 2010. Therefore, we will only consider the time period from January to March. "
      ]
    },
    {
      "cell_type": "code",
      "metadata": {
        "id": "FJ8P8ViYXrN9",
        "colab_type": "code",
        "colab": {}
      },
      "source": [
        " df = df.loc[df['date/time']>= pd.to_datetime('2010, 1, 1')]\n",
        " df = df.loc[df['date/time']< pd.to_datetime('2010, 3, 1')]"
      ],
      "execution_count": 0,
      "outputs": []
    },
    {
      "cell_type": "code",
      "metadata": {
        "id": "BmESXoAyXuaQ",
        "colab_type": "code",
        "outputId": "11f898cd-0f3a-456a-c3f3-2f893857e243",
        "colab": {
          "base_uri": "https://localhost:8080/",
          "height": 532
        }
      },
      "source": [
        "fig, ax = plt.subplots()\n",
        "for label, grp in df.groupby('location'):\n",
        "    grp.plot(x ='date/time', y = 'n_tweet', ax = ax, label = label,figsize=fig_size_ )"
      ],
      "execution_count": 0,
      "outputs": [
        {
          "output_type": "display_data",
          "data": {
            "image/png": "[encoded data removed]",
            "text/plain": [
              "<Figure size 864x576 with 1 Axes>"
            ]
          },
          "metadata": {
            "tags": []
          }
        }
      ]
    },
    {
      "cell_type": "markdown",
      "metadata": {
        "id": "80d_6M0XY7sH",
        "colab_type": "text"
      },
      "source": [
        "We could not completely address the problem we stated previously but the number of tweets per day are already much more frequent. "
      ]
    },
    {
      "cell_type": "code",
      "metadata": {
        "id": "3RfJ46IBY43j",
        "colab_type": "code",
        "outputId": "196f7933-97e9-4adf-a6e0-bf5f5e1a4009",
        "colab": {
          "base_uri": "https://localhost:8080/",
          "height": 619
        }
      },
      "source": [
        "df['day_of_week'] = df['date/time'].dt.dayofweek\n",
        "plt.figure(figsize=fig_size_)\n",
        "ax = sns.lineplot(x=\"day_of_week\", y=\"%pos\",  ci='sd', data=df, legend='full')\n",
        "sns.lineplot(x=\"day_of_week\", y=\"%neg\", ci='sd', data=df, legend='full')\n",
        "ax.legend(['Pos','Neg'])\n",
        "plt.ylabel('%')\n",
        "plt.xlabel('')\n",
        "plt.xticks(np.arange(7), ('Monday', 'Tuesday','Wednesday','Thursday', 'Friday', 'Saturday', 'Sunday')) "
      ],
      "execution_count": 0,
      "outputs": [
        {
          "output_type": "execute_result",
          "data": {
            "text/plain": [
              "([<matplotlib.axis.XTick at 0x7f1aa04c85c0>,\n",
              "  <matplotlib.axis.XTick at 0x7f1aa052b940>,\n",
              "  <matplotlib.axis.XTick at 0x7f1aa0530d68>,\n",
              "  <matplotlib.axis.XTick at 0x7f1aa0504400>,\n",
              "  <matplotlib.axis.XTick at 0x7f1aa0504a20>,\n",
              "  <matplotlib.axis.XTick at 0x7f1aa0504ef0>,\n",
              "  <matplotlib.axis.XTick at 0x7f1aa0490400>],\n",
              " <a list of 7 Text xticklabel objects>)"
            ]
          },
          "metadata": {
            "tags": []
          },
          "execution_count": 26
        },
        {
          "output_type": "display_data",
          "data": {
            "image/png": "[encoded data removed]",
            "text/plain": [
              "<Figure size 864x576 with 1 Axes>"
            ]
          },
          "metadata": {
            "tags": []
          }
        }
      ]
    },
    {
      "cell_type": "markdown",
      "metadata": {
        "id": "7b-t6mobZXhz",
        "colab_type": "text"
      },
      "source": [
        "In this graph, we aggregated the data to analyse the percentage of positive and negative tweets over the week. We We can see, that on Friday people have the tendency to publish less negative tweets. We can not draw much more conclusions from this analyis."
      ]
    },
    {
      "cell_type": "code",
      "metadata": {
        "id": "QrMlr1wxdCLx",
        "colab_type": "code",
        "colab": {}
      },
      "source": [
        ""
      ],
      "execution_count": 0,
      "outputs": []
    }
  ]
}